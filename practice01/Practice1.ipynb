{
 "nbformat": 4,
 "nbformat_minor": 0,
 "metadata": {
  "colab": {
   "provenance": []
  },
  "kernelspec": {
   "name": "python3",
   "language": "python",
   "display_name": "Python 3 (ipykernel)"
  },
  "language_info": {
   "name": "python"
  }
 },
 "cells": [
  {
   "cell_type": "code",
   "execution_count": 27,
   "outputs": [],
   "source": [
    "import pandas as pd\n",
    "import numpy as np"
   ],
   "metadata": {
    "collapsed": false,
    "ExecuteTime": {
     "start_time": "2023-04-30T17:20:01.925846Z",
     "end_time": "2023-04-30T17:20:02.086400Z"
    }
   }
  },
  {
   "cell_type": "code",
   "source": [
    "df = pd.read_csv(\n",
    "    'https://raw.githubusercontent.com/TeamLab/machine_learning_from_scratch_with_python/master/code/ch12/titanic/train.csv')"
   ],
   "metadata": {
    "id": "HEtcaG9R67cx",
    "ExecuteTime": {
     "start_time": "2023-04-30T17:20:10.982109Z",
     "end_time": "2023-04-30T17:20:11.245828Z"
    }
   },
   "execution_count": 55,
   "outputs": []
  },
  {
   "cell_type": "code",
   "source": [
    "df.head(10)"
   ],
   "metadata": {
    "colab": {
     "base_uri": "https://localhost:8080/",
     "height": 111
    },
    "id": "c4HRtgep6_tI",
    "outputId": "51e7bee8-96f9-4705-b6b6-c0b1eab545fd",
    "ExecuteTime": {
     "start_time": "2023-04-30T17:20:12.772931Z",
     "end_time": "2023-04-30T17:20:12.780692Z"
    }
   },
   "execution_count": 56,
   "outputs": [
    {
     "data": {
      "text/plain": "   PassengerId  Survived  Pclass   \n0            1         0       3  \\\n1            2         1       1   \n2            3         1       3   \n3            4         1       1   \n4            5         0       3   \n5            6         0       3   \n6            7         0       1   \n7            8         0       3   \n8            9         1       3   \n9           10         1       2   \n\n                                                Name     Sex   Age  SibSp   \n0                            Braund, Mr. Owen Harris    male  22.0      1  \\\n1  Cumings, Mrs. John Bradley (Florence Briggs Th...  female  38.0      1   \n2                             Heikkinen, Miss. Laina  female  26.0      0   \n3       Futrelle, Mrs. Jacques Heath (Lily May Peel)  female  35.0      1   \n4                           Allen, Mr. William Henry    male  35.0      0   \n5                                   Moran, Mr. James    male   NaN      0   \n6                            McCarthy, Mr. Timothy J    male  54.0      0   \n7                     Palsson, Master. Gosta Leonard    male   2.0      3   \n8  Johnson, Mrs. Oscar W (Elisabeth Vilhelmina Berg)  female  27.0      0   \n9                Nasser, Mrs. Nicholas (Adele Achem)  female  14.0      1   \n\n   Parch            Ticket     Fare Cabin Embarked  \n0      0         A/5 21171   7.2500   NaN        S  \n1      0          PC 17599  71.2833   C85        C  \n2      0  STON/O2. 3101282   7.9250   NaN        S  \n3      0            113803  53.1000  C123        S  \n4      0            373450   8.0500   NaN        S  \n5      0            330877   8.4583   NaN        Q  \n6      0             17463  51.8625   E46        S  \n7      1            349909  21.0750   NaN        S  \n8      2            347742  11.1333   NaN        S  \n9      0            237736  30.0708   NaN        C  ",
      "text/html": "<div>\n<style scoped>\n    .dataframe tbody tr th:only-of-type {\n        vertical-align: middle;\n    }\n\n    .dataframe tbody tr th {\n        vertical-align: top;\n    }\n\n    .dataframe thead th {\n        text-align: right;\n    }\n</style>\n<table border=\"1\" class=\"dataframe\">\n  <thead>\n    <tr style=\"text-align: right;\">\n      <th></th>\n      <th>PassengerId</th>\n      <th>Survived</th>\n      <th>Pclass</th>\n      <th>Name</th>\n      <th>Sex</th>\n      <th>Age</th>\n      <th>SibSp</th>\n      <th>Parch</th>\n      <th>Ticket</th>\n      <th>Fare</th>\n      <th>Cabin</th>\n      <th>Embarked</th>\n    </tr>\n  </thead>\n  <tbody>\n    <tr>\n      <th>0</th>\n      <td>1</td>\n      <td>0</td>\n      <td>3</td>\n      <td>Braund, Mr. Owen Harris</td>\n      <td>male</td>\n      <td>22.0</td>\n      <td>1</td>\n      <td>0</td>\n      <td>A/5 21171</td>\n      <td>7.2500</td>\n      <td>NaN</td>\n      <td>S</td>\n    </tr>\n    <tr>\n      <th>1</th>\n      <td>2</td>\n      <td>1</td>\n      <td>1</td>\n      <td>Cumings, Mrs. John Bradley (Florence Briggs Th...</td>\n      <td>female</td>\n      <td>38.0</td>\n      <td>1</td>\n      <td>0</td>\n      <td>PC 17599</td>\n      <td>71.2833</td>\n      <td>C85</td>\n      <td>C</td>\n    </tr>\n    <tr>\n      <th>2</th>\n      <td>3</td>\n      <td>1</td>\n      <td>3</td>\n      <td>Heikkinen, Miss. Laina</td>\n      <td>female</td>\n      <td>26.0</td>\n      <td>0</td>\n      <td>0</td>\n      <td>STON/O2. 3101282</td>\n      <td>7.9250</td>\n      <td>NaN</td>\n      <td>S</td>\n    </tr>\n    <tr>\n      <th>3</th>\n      <td>4</td>\n      <td>1</td>\n      <td>1</td>\n      <td>Futrelle, Mrs. Jacques Heath (Lily May Peel)</td>\n      <td>female</td>\n      <td>35.0</td>\n      <td>1</td>\n      <td>0</td>\n      <td>113803</td>\n      <td>53.1000</td>\n      <td>C123</td>\n      <td>S</td>\n    </tr>\n    <tr>\n      <th>4</th>\n      <td>5</td>\n      <td>0</td>\n      <td>3</td>\n      <td>Allen, Mr. William Henry</td>\n      <td>male</td>\n      <td>35.0</td>\n      <td>0</td>\n      <td>0</td>\n      <td>373450</td>\n      <td>8.0500</td>\n      <td>NaN</td>\n      <td>S</td>\n    </tr>\n    <tr>\n      <th>5</th>\n      <td>6</td>\n      <td>0</td>\n      <td>3</td>\n      <td>Moran, Mr. James</td>\n      <td>male</td>\n      <td>NaN</td>\n      <td>0</td>\n      <td>0</td>\n      <td>330877</td>\n      <td>8.4583</td>\n      <td>NaN</td>\n      <td>Q</td>\n    </tr>\n    <tr>\n      <th>6</th>\n      <td>7</td>\n      <td>0</td>\n      <td>1</td>\n      <td>McCarthy, Mr. Timothy J</td>\n      <td>male</td>\n      <td>54.0</td>\n      <td>0</td>\n      <td>0</td>\n      <td>17463</td>\n      <td>51.8625</td>\n      <td>E46</td>\n      <td>S</td>\n    </tr>\n    <tr>\n      <th>7</th>\n      <td>8</td>\n      <td>0</td>\n      <td>3</td>\n      <td>Palsson, Master. Gosta Leonard</td>\n      <td>male</td>\n      <td>2.0</td>\n      <td>3</td>\n      <td>1</td>\n      <td>349909</td>\n      <td>21.0750</td>\n      <td>NaN</td>\n      <td>S</td>\n    </tr>\n    <tr>\n      <th>8</th>\n      <td>9</td>\n      <td>1</td>\n      <td>3</td>\n      <td>Johnson, Mrs. Oscar W (Elisabeth Vilhelmina Berg)</td>\n      <td>female</td>\n      <td>27.0</td>\n      <td>0</td>\n      <td>2</td>\n      <td>347742</td>\n      <td>11.1333</td>\n      <td>NaN</td>\n      <td>S</td>\n    </tr>\n    <tr>\n      <th>9</th>\n      <td>10</td>\n      <td>1</td>\n      <td>2</td>\n      <td>Nasser, Mrs. Nicholas (Adele Achem)</td>\n      <td>female</td>\n      <td>14.0</td>\n      <td>1</td>\n      <td>0</td>\n      <td>237736</td>\n      <td>30.0708</td>\n      <td>NaN</td>\n      <td>C</td>\n    </tr>\n  </tbody>\n</table>\n</div>"
     },
     "execution_count": 56,
     "metadata": {},
     "output_type": "execute_result"
    }
   ]
  },
  {
   "cell_type": "code",
   "source": [
    "df.info()"
   ],
   "metadata": {
    "colab": {
     "base_uri": "https://localhost:8080/"
    },
    "id": "lFODNTdV8jZk",
    "outputId": "8157838f-db3a-4d26-db4a-0d9289719dca",
    "ExecuteTime": {
     "start_time": "2023-04-30T17:20:02.211083Z",
     "end_time": "2023-04-30T17:20:02.215885Z"
    }
   },
   "execution_count": 30,
   "outputs": [
    {
     "name": "stdout",
     "output_type": "stream",
     "text": [
      "<class 'pandas.core.frame.DataFrame'>\n",
      "RangeIndex: 891 entries, 0 to 890\n",
      "Data columns (total 12 columns):\n",
      " #   Column       Non-Null Count  Dtype  \n",
      "---  ------       --------------  -----  \n",
      " 0   PassengerId  891 non-null    int64  \n",
      " 1   Survived     891 non-null    int64  \n",
      " 2   Pclass       891 non-null    int64  \n",
      " 3   Name         891 non-null    object \n",
      " 4   Sex          891 non-null    object \n",
      " 5   Age          714 non-null    float64\n",
      " 6   SibSp        891 non-null    int64  \n",
      " 7   Parch        891 non-null    int64  \n",
      " 8   Ticket       891 non-null    object \n",
      " 9   Fare         891 non-null    float64\n",
      " 10  Cabin        204 non-null    object \n",
      " 11  Embarked     889 non-null    object \n",
      "dtypes: float64(2), int64(5), object(5)\n",
      "memory usage: 83.7+ KB\n"
     ]
    }
   ]
  },
  {
   "cell_type": "markdown",
   "source": [
    "# 문자열 치환"
   ],
   "metadata": {
    "id": "izgxaB8MDvxB"
   }
  },
  {
   "cell_type": "markdown",
   "source": [
    "문자열 치환 - **컴럼 전체 삭제**"
   ],
   "metadata": {
    "id": "Q0MXNDm2-r6r"
   }
  },
  {
   "cell_type": "code",
   "source": [
    "df = df.drop(['Name'], axis=1)"
   ],
   "metadata": {
    "id": "mAn3sG2R-PQ_",
    "ExecuteTime": {
     "start_time": "2023-04-30T17:20:14.818293Z",
     "end_time": "2023-04-30T17:20:14.820239Z"
    }
   },
   "execution_count": 57,
   "outputs": []
  },
  {
   "cell_type": "code",
   "source": [
    "df.head(10)"
   ],
   "metadata": {
    "colab": {
     "base_uri": "https://localhost:8080/",
     "height": 111
    },
    "id": "OIRvM8YF-YDy",
    "outputId": "5f07ab52-e590-43ad-c2cb-cf2b86f52e91",
    "ExecuteTime": {
     "start_time": "2023-04-30T17:20:15.870115Z",
     "end_time": "2023-04-30T17:20:15.875712Z"
    }
   },
   "execution_count": 58,
   "outputs": [
    {
     "data": {
      "text/plain": "   PassengerId  Survived  Pclass     Sex   Age  SibSp  Parch   \n0            1         0       3    male  22.0      1      0  \\\n1            2         1       1  female  38.0      1      0   \n2            3         1       3  female  26.0      0      0   \n3            4         1       1  female  35.0      1      0   \n4            5         0       3    male  35.0      0      0   \n5            6         0       3    male   NaN      0      0   \n6            7         0       1    male  54.0      0      0   \n7            8         0       3    male   2.0      3      1   \n8            9         1       3  female  27.0      0      2   \n9           10         1       2  female  14.0      1      0   \n\n             Ticket     Fare Cabin Embarked  \n0         A/5 21171   7.2500   NaN        S  \n1          PC 17599  71.2833   C85        C  \n2  STON/O2. 3101282   7.9250   NaN        S  \n3            113803  53.1000  C123        S  \n4            373450   8.0500   NaN        S  \n5            330877   8.4583   NaN        Q  \n6             17463  51.8625   E46        S  \n7            349909  21.0750   NaN        S  \n8            347742  11.1333   NaN        S  \n9            237736  30.0708   NaN        C  ",
      "text/html": "<div>\n<style scoped>\n    .dataframe tbody tr th:only-of-type {\n        vertical-align: middle;\n    }\n\n    .dataframe tbody tr th {\n        vertical-align: top;\n    }\n\n    .dataframe thead th {\n        text-align: right;\n    }\n</style>\n<table border=\"1\" class=\"dataframe\">\n  <thead>\n    <tr style=\"text-align: right;\">\n      <th></th>\n      <th>PassengerId</th>\n      <th>Survived</th>\n      <th>Pclass</th>\n      <th>Sex</th>\n      <th>Age</th>\n      <th>SibSp</th>\n      <th>Parch</th>\n      <th>Ticket</th>\n      <th>Fare</th>\n      <th>Cabin</th>\n      <th>Embarked</th>\n    </tr>\n  </thead>\n  <tbody>\n    <tr>\n      <th>0</th>\n      <td>1</td>\n      <td>0</td>\n      <td>3</td>\n      <td>male</td>\n      <td>22.0</td>\n      <td>1</td>\n      <td>0</td>\n      <td>A/5 21171</td>\n      <td>7.2500</td>\n      <td>NaN</td>\n      <td>S</td>\n    </tr>\n    <tr>\n      <th>1</th>\n      <td>2</td>\n      <td>1</td>\n      <td>1</td>\n      <td>female</td>\n      <td>38.0</td>\n      <td>1</td>\n      <td>0</td>\n      <td>PC 17599</td>\n      <td>71.2833</td>\n      <td>C85</td>\n      <td>C</td>\n    </tr>\n    <tr>\n      <th>2</th>\n      <td>3</td>\n      <td>1</td>\n      <td>3</td>\n      <td>female</td>\n      <td>26.0</td>\n      <td>0</td>\n      <td>0</td>\n      <td>STON/O2. 3101282</td>\n      <td>7.9250</td>\n      <td>NaN</td>\n      <td>S</td>\n    </tr>\n    <tr>\n      <th>3</th>\n      <td>4</td>\n      <td>1</td>\n      <td>1</td>\n      <td>female</td>\n      <td>35.0</td>\n      <td>1</td>\n      <td>0</td>\n      <td>113803</td>\n      <td>53.1000</td>\n      <td>C123</td>\n      <td>S</td>\n    </tr>\n    <tr>\n      <th>4</th>\n      <td>5</td>\n      <td>0</td>\n      <td>3</td>\n      <td>male</td>\n      <td>35.0</td>\n      <td>0</td>\n      <td>0</td>\n      <td>373450</td>\n      <td>8.0500</td>\n      <td>NaN</td>\n      <td>S</td>\n    </tr>\n    <tr>\n      <th>5</th>\n      <td>6</td>\n      <td>0</td>\n      <td>3</td>\n      <td>male</td>\n      <td>NaN</td>\n      <td>0</td>\n      <td>0</td>\n      <td>330877</td>\n      <td>8.4583</td>\n      <td>NaN</td>\n      <td>Q</td>\n    </tr>\n    <tr>\n      <th>6</th>\n      <td>7</td>\n      <td>0</td>\n      <td>1</td>\n      <td>male</td>\n      <td>54.0</td>\n      <td>0</td>\n      <td>0</td>\n      <td>17463</td>\n      <td>51.8625</td>\n      <td>E46</td>\n      <td>S</td>\n    </tr>\n    <tr>\n      <th>7</th>\n      <td>8</td>\n      <td>0</td>\n      <td>3</td>\n      <td>male</td>\n      <td>2.0</td>\n      <td>3</td>\n      <td>1</td>\n      <td>349909</td>\n      <td>21.0750</td>\n      <td>NaN</td>\n      <td>S</td>\n    </tr>\n    <tr>\n      <th>8</th>\n      <td>9</td>\n      <td>1</td>\n      <td>3</td>\n      <td>female</td>\n      <td>27.0</td>\n      <td>0</td>\n      <td>2</td>\n      <td>347742</td>\n      <td>11.1333</td>\n      <td>NaN</td>\n      <td>S</td>\n    </tr>\n    <tr>\n      <th>9</th>\n      <td>10</td>\n      <td>1</td>\n      <td>2</td>\n      <td>female</td>\n      <td>14.0</td>\n      <td>1</td>\n      <td>0</td>\n      <td>237736</td>\n      <td>30.0708</td>\n      <td>NaN</td>\n      <td>C</td>\n    </tr>\n  </tbody>\n</table>\n</div>"
     },
     "execution_count": 58,
     "metadata": {},
     "output_type": "execute_result"
    }
   ]
  },
  {
   "cell_type": "markdown",
   "source": [
    "문자열 치환 - **라벨 인코딩** : 특정 문자열 데이터를 정수와 매칭하여 단순 변환하는 방식으로 대소 관계에 영향을 주기 때문에 설명 변수에는 잘 사용하지 않는다."
   ],
   "metadata": {
    "id": "HDB6QH1k-g8j"
   }
  },
  {
   "cell_type": "code",
   "source": [
    "from sklearn.preprocessing import LabelEncoder\n",
    "\n",
    "encoder = LabelEncoder()\n",
    "df['Sex'] = encoder.fit_transform(df['Sex'].values)\n",
    "df.head(10)"
   ],
   "metadata": {
    "colab": {
     "base_uri": "https://localhost:8080/"
    },
    "id": "b1xA2Wvp-YLH",
    "outputId": "0d6154ae-29ad-4982-bc3a-51424a480cf1",
    "ExecuteTime": {
     "start_time": "2023-04-30T17:20:19.934928Z",
     "end_time": "2023-04-30T17:20:19.938711Z"
    }
   },
   "execution_count": 59,
   "outputs": [
    {
     "data": {
      "text/plain": "   PassengerId  Survived  Pclass  Sex   Age  SibSp  Parch            Ticket   \n0            1         0       3    1  22.0      1      0         A/5 21171  \\\n1            2         1       1    0  38.0      1      0          PC 17599   \n2            3         1       3    0  26.0      0      0  STON/O2. 3101282   \n3            4         1       1    0  35.0      1      0            113803   \n4            5         0       3    1  35.0      0      0            373450   \n5            6         0       3    1   NaN      0      0            330877   \n6            7         0       1    1  54.0      0      0             17463   \n7            8         0       3    1   2.0      3      1            349909   \n8            9         1       3    0  27.0      0      2            347742   \n9           10         1       2    0  14.0      1      0            237736   \n\n      Fare Cabin Embarked  \n0   7.2500   NaN        S  \n1  71.2833   C85        C  \n2   7.9250   NaN        S  \n3  53.1000  C123        S  \n4   8.0500   NaN        S  \n5   8.4583   NaN        Q  \n6  51.8625   E46        S  \n7  21.0750   NaN        S  \n8  11.1333   NaN        S  \n9  30.0708   NaN        C  ",
      "text/html": "<div>\n<style scoped>\n    .dataframe tbody tr th:only-of-type {\n        vertical-align: middle;\n    }\n\n    .dataframe tbody tr th {\n        vertical-align: top;\n    }\n\n    .dataframe thead th {\n        text-align: right;\n    }\n</style>\n<table border=\"1\" class=\"dataframe\">\n  <thead>\n    <tr style=\"text-align: right;\">\n      <th></th>\n      <th>PassengerId</th>\n      <th>Survived</th>\n      <th>Pclass</th>\n      <th>Sex</th>\n      <th>Age</th>\n      <th>SibSp</th>\n      <th>Parch</th>\n      <th>Ticket</th>\n      <th>Fare</th>\n      <th>Cabin</th>\n      <th>Embarked</th>\n    </tr>\n  </thead>\n  <tbody>\n    <tr>\n      <th>0</th>\n      <td>1</td>\n      <td>0</td>\n      <td>3</td>\n      <td>1</td>\n      <td>22.0</td>\n      <td>1</td>\n      <td>0</td>\n      <td>A/5 21171</td>\n      <td>7.2500</td>\n      <td>NaN</td>\n      <td>S</td>\n    </tr>\n    <tr>\n      <th>1</th>\n      <td>2</td>\n      <td>1</td>\n      <td>1</td>\n      <td>0</td>\n      <td>38.0</td>\n      <td>1</td>\n      <td>0</td>\n      <td>PC 17599</td>\n      <td>71.2833</td>\n      <td>C85</td>\n      <td>C</td>\n    </tr>\n    <tr>\n      <th>2</th>\n      <td>3</td>\n      <td>1</td>\n      <td>3</td>\n      <td>0</td>\n      <td>26.0</td>\n      <td>0</td>\n      <td>0</td>\n      <td>STON/O2. 3101282</td>\n      <td>7.9250</td>\n      <td>NaN</td>\n      <td>S</td>\n    </tr>\n    <tr>\n      <th>3</th>\n      <td>4</td>\n      <td>1</td>\n      <td>1</td>\n      <td>0</td>\n      <td>35.0</td>\n      <td>1</td>\n      <td>0</td>\n      <td>113803</td>\n      <td>53.1000</td>\n      <td>C123</td>\n      <td>S</td>\n    </tr>\n    <tr>\n      <th>4</th>\n      <td>5</td>\n      <td>0</td>\n      <td>3</td>\n      <td>1</td>\n      <td>35.0</td>\n      <td>0</td>\n      <td>0</td>\n      <td>373450</td>\n      <td>8.0500</td>\n      <td>NaN</td>\n      <td>S</td>\n    </tr>\n    <tr>\n      <th>5</th>\n      <td>6</td>\n      <td>0</td>\n      <td>3</td>\n      <td>1</td>\n      <td>NaN</td>\n      <td>0</td>\n      <td>0</td>\n      <td>330877</td>\n      <td>8.4583</td>\n      <td>NaN</td>\n      <td>Q</td>\n    </tr>\n    <tr>\n      <th>6</th>\n      <td>7</td>\n      <td>0</td>\n      <td>1</td>\n      <td>1</td>\n      <td>54.0</td>\n      <td>0</td>\n      <td>0</td>\n      <td>17463</td>\n      <td>51.8625</td>\n      <td>E46</td>\n      <td>S</td>\n    </tr>\n    <tr>\n      <th>7</th>\n      <td>8</td>\n      <td>0</td>\n      <td>3</td>\n      <td>1</td>\n      <td>2.0</td>\n      <td>3</td>\n      <td>1</td>\n      <td>349909</td>\n      <td>21.0750</td>\n      <td>NaN</td>\n      <td>S</td>\n    </tr>\n    <tr>\n      <th>8</th>\n      <td>9</td>\n      <td>1</td>\n      <td>3</td>\n      <td>0</td>\n      <td>27.0</td>\n      <td>0</td>\n      <td>2</td>\n      <td>347742</td>\n      <td>11.1333</td>\n      <td>NaN</td>\n      <td>S</td>\n    </tr>\n    <tr>\n      <th>9</th>\n      <td>10</td>\n      <td>1</td>\n      <td>2</td>\n      <td>0</td>\n      <td>14.0</td>\n      <td>1</td>\n      <td>0</td>\n      <td>237736</td>\n      <td>30.0708</td>\n      <td>NaN</td>\n      <td>C</td>\n    </tr>\n  </tbody>\n</table>\n</div>"
     },
     "execution_count": 59,
     "metadata": {},
     "output_type": "execute_result"
    }
   ]
  },
  {
   "cell_type": "markdown",
   "source": [
    "문자열 치환 - **원핫 인코딩** : 유일한 문자열의 개수만큼 컬럼을 생성하여 그중 하나의 위치에만 1을 대입하는 방식, 일반적인 전처리 방법으로 메모리 낭비가 심하다."
   ],
   "metadata": {
    "id": "jrXkbN8PBRqf"
   }
  },
  {
   "cell_type": "code",
   "source": [
    "from sklearn.preprocessing import OneHotEncoder\n",
    "\n",
    "oh_encoder = OneHotEncoder(sparse_output=False)\n",
    "oh_df = oh_encoder.fit_transform(np.array(df['Embarked']).reshape(-1, 1))\n",
    "\n",
    "onehot_df = pd.DataFrame(oh_df, columns=[\"Embarked\" + str(int(i)) for i in range(oh_df.shape[1])])\n",
    "df = df.drop(['Embarked'], axis=1)\n",
    "df = pd.concat([df, onehot_df], axis=1)\n",
    "df.head(10)"
   ],
   "metadata": {
    "colab": {
     "base_uri": "https://localhost:8080/",
     "height": 145
    },
    "id": "7wt_tebUBZD-",
    "outputId": "03ca279a-32e8-429e-dec2-3ae1c41cb90f",
    "ExecuteTime": {
     "start_time": "2023-04-30T17:20:22.250124Z",
     "end_time": "2023-04-30T17:20:22.252683Z"
    }
   },
   "execution_count": 60,
   "outputs": [
    {
     "data": {
      "text/plain": "   PassengerId  Survived  Pclass  Sex   Age  SibSp  Parch            Ticket   \n0            1         0       3    1  22.0      1      0         A/5 21171  \\\n1            2         1       1    0  38.0      1      0          PC 17599   \n2            3         1       3    0  26.0      0      0  STON/O2. 3101282   \n3            4         1       1    0  35.0      1      0            113803   \n4            5         0       3    1  35.0      0      0            373450   \n5            6         0       3    1   NaN      0      0            330877   \n6            7         0       1    1  54.0      0      0             17463   \n7            8         0       3    1   2.0      3      1            349909   \n8            9         1       3    0  27.0      0      2            347742   \n9           10         1       2    0  14.0      1      0            237736   \n\n      Fare Cabin  Embarked0  Embarked1  Embarked2  Embarked3  \n0   7.2500   NaN        0.0        0.0        1.0        0.0  \n1  71.2833   C85        1.0        0.0        0.0        0.0  \n2   7.9250   NaN        0.0        0.0        1.0        0.0  \n3  53.1000  C123        0.0        0.0        1.0        0.0  \n4   8.0500   NaN        0.0        0.0        1.0        0.0  \n5   8.4583   NaN        0.0        1.0        0.0        0.0  \n6  51.8625   E46        0.0        0.0        1.0        0.0  \n7  21.0750   NaN        0.0        0.0        1.0        0.0  \n8  11.1333   NaN        0.0        0.0        1.0        0.0  \n9  30.0708   NaN        1.0        0.0        0.0        0.0  ",
      "text/html": "<div>\n<style scoped>\n    .dataframe tbody tr th:only-of-type {\n        vertical-align: middle;\n    }\n\n    .dataframe tbody tr th {\n        vertical-align: top;\n    }\n\n    .dataframe thead th {\n        text-align: right;\n    }\n</style>\n<table border=\"1\" class=\"dataframe\">\n  <thead>\n    <tr style=\"text-align: right;\">\n      <th></th>\n      <th>PassengerId</th>\n      <th>Survived</th>\n      <th>Pclass</th>\n      <th>Sex</th>\n      <th>Age</th>\n      <th>SibSp</th>\n      <th>Parch</th>\n      <th>Ticket</th>\n      <th>Fare</th>\n      <th>Cabin</th>\n      <th>Embarked0</th>\n      <th>Embarked1</th>\n      <th>Embarked2</th>\n      <th>Embarked3</th>\n    </tr>\n  </thead>\n  <tbody>\n    <tr>\n      <th>0</th>\n      <td>1</td>\n      <td>0</td>\n      <td>3</td>\n      <td>1</td>\n      <td>22.0</td>\n      <td>1</td>\n      <td>0</td>\n      <td>A/5 21171</td>\n      <td>7.2500</td>\n      <td>NaN</td>\n      <td>0.0</td>\n      <td>0.0</td>\n      <td>1.0</td>\n      <td>0.0</td>\n    </tr>\n    <tr>\n      <th>1</th>\n      <td>2</td>\n      <td>1</td>\n      <td>1</td>\n      <td>0</td>\n      <td>38.0</td>\n      <td>1</td>\n      <td>0</td>\n      <td>PC 17599</td>\n      <td>71.2833</td>\n      <td>C85</td>\n      <td>1.0</td>\n      <td>0.0</td>\n      <td>0.0</td>\n      <td>0.0</td>\n    </tr>\n    <tr>\n      <th>2</th>\n      <td>3</td>\n      <td>1</td>\n      <td>3</td>\n      <td>0</td>\n      <td>26.0</td>\n      <td>0</td>\n      <td>0</td>\n      <td>STON/O2. 3101282</td>\n      <td>7.9250</td>\n      <td>NaN</td>\n      <td>0.0</td>\n      <td>0.0</td>\n      <td>1.0</td>\n      <td>0.0</td>\n    </tr>\n    <tr>\n      <th>3</th>\n      <td>4</td>\n      <td>1</td>\n      <td>1</td>\n      <td>0</td>\n      <td>35.0</td>\n      <td>1</td>\n      <td>0</td>\n      <td>113803</td>\n      <td>53.1000</td>\n      <td>C123</td>\n      <td>0.0</td>\n      <td>0.0</td>\n      <td>1.0</td>\n      <td>0.0</td>\n    </tr>\n    <tr>\n      <th>4</th>\n      <td>5</td>\n      <td>0</td>\n      <td>3</td>\n      <td>1</td>\n      <td>35.0</td>\n      <td>0</td>\n      <td>0</td>\n      <td>373450</td>\n      <td>8.0500</td>\n      <td>NaN</td>\n      <td>0.0</td>\n      <td>0.0</td>\n      <td>1.0</td>\n      <td>0.0</td>\n    </tr>\n    <tr>\n      <th>5</th>\n      <td>6</td>\n      <td>0</td>\n      <td>3</td>\n      <td>1</td>\n      <td>NaN</td>\n      <td>0</td>\n      <td>0</td>\n      <td>330877</td>\n      <td>8.4583</td>\n      <td>NaN</td>\n      <td>0.0</td>\n      <td>1.0</td>\n      <td>0.0</td>\n      <td>0.0</td>\n    </tr>\n    <tr>\n      <th>6</th>\n      <td>7</td>\n      <td>0</td>\n      <td>1</td>\n      <td>1</td>\n      <td>54.0</td>\n      <td>0</td>\n      <td>0</td>\n      <td>17463</td>\n      <td>51.8625</td>\n      <td>E46</td>\n      <td>0.0</td>\n      <td>0.0</td>\n      <td>1.0</td>\n      <td>0.0</td>\n    </tr>\n    <tr>\n      <th>7</th>\n      <td>8</td>\n      <td>0</td>\n      <td>3</td>\n      <td>1</td>\n      <td>2.0</td>\n      <td>3</td>\n      <td>1</td>\n      <td>349909</td>\n      <td>21.0750</td>\n      <td>NaN</td>\n      <td>0.0</td>\n      <td>0.0</td>\n      <td>1.0</td>\n      <td>0.0</td>\n    </tr>\n    <tr>\n      <th>8</th>\n      <td>9</td>\n      <td>1</td>\n      <td>3</td>\n      <td>0</td>\n      <td>27.0</td>\n      <td>0</td>\n      <td>2</td>\n      <td>347742</td>\n      <td>11.1333</td>\n      <td>NaN</td>\n      <td>0.0</td>\n      <td>0.0</td>\n      <td>1.0</td>\n      <td>0.0</td>\n    </tr>\n    <tr>\n      <th>9</th>\n      <td>10</td>\n      <td>1</td>\n      <td>2</td>\n      <td>0</td>\n      <td>14.0</td>\n      <td>1</td>\n      <td>0</td>\n      <td>237736</td>\n      <td>30.0708</td>\n      <td>NaN</td>\n      <td>1.0</td>\n      <td>0.0</td>\n      <td>0.0</td>\n      <td>0.0</td>\n    </tr>\n  </tbody>\n</table>\n</div>"
     },
     "execution_count": 60,
     "metadata": {},
     "output_type": "execute_result"
    }
   ]
  },
  {
   "cell_type": "markdown",
   "source": [
    "문자열 치환 - 기타"
   ],
   "metadata": {
    "id": "v-nKfGgpDKGG"
   }
  },
  {
   "cell_type": "code",
   "source": [
    "df = df.drop(['Ticket'], axis=1)\n",
    "df = df.drop(['Cabin'], axis=1)\n",
    "df.head(10)"
   ],
   "metadata": {
    "colab": {
     "base_uri": "https://localhost:8080/",
     "height": 111
    },
    "id": "hqEn-1CPC3Du",
    "outputId": "5104546e-34cf-44c7-8448-a07f1a823eb9",
    "ExecuteTime": {
     "start_time": "2023-04-30T17:20:49.289429Z",
     "end_time": "2023-04-30T17:20:49.301666Z"
    }
   },
   "execution_count": 61,
   "outputs": [
    {
     "data": {
      "text/plain": "   PassengerId  Survived  Pclass  Sex   Age  SibSp  Parch     Fare  Embarked0   \n0            1         0       3    1  22.0      1      0   7.2500        0.0  \\\n1            2         1       1    0  38.0      1      0  71.2833        1.0   \n2            3         1       3    0  26.0      0      0   7.9250        0.0   \n3            4         1       1    0  35.0      1      0  53.1000        0.0   \n4            5         0       3    1  35.0      0      0   8.0500        0.0   \n5            6         0       3    1   NaN      0      0   8.4583        0.0   \n6            7         0       1    1  54.0      0      0  51.8625        0.0   \n7            8         0       3    1   2.0      3      1  21.0750        0.0   \n8            9         1       3    0  27.0      0      2  11.1333        0.0   \n9           10         1       2    0  14.0      1      0  30.0708        1.0   \n\n   Embarked1  Embarked2  Embarked3  \n0        0.0        1.0        0.0  \n1        0.0        0.0        0.0  \n2        0.0        1.0        0.0  \n3        0.0        1.0        0.0  \n4        0.0        1.0        0.0  \n5        1.0        0.0        0.0  \n6        0.0        1.0        0.0  \n7        0.0        1.0        0.0  \n8        0.0        1.0        0.0  \n9        0.0        0.0        0.0  ",
      "text/html": "<div>\n<style scoped>\n    .dataframe tbody tr th:only-of-type {\n        vertical-align: middle;\n    }\n\n    .dataframe tbody tr th {\n        vertical-align: top;\n    }\n\n    .dataframe thead th {\n        text-align: right;\n    }\n</style>\n<table border=\"1\" class=\"dataframe\">\n  <thead>\n    <tr style=\"text-align: right;\">\n      <th></th>\n      <th>PassengerId</th>\n      <th>Survived</th>\n      <th>Pclass</th>\n      <th>Sex</th>\n      <th>Age</th>\n      <th>SibSp</th>\n      <th>Parch</th>\n      <th>Fare</th>\n      <th>Embarked0</th>\n      <th>Embarked1</th>\n      <th>Embarked2</th>\n      <th>Embarked3</th>\n    </tr>\n  </thead>\n  <tbody>\n    <tr>\n      <th>0</th>\n      <td>1</td>\n      <td>0</td>\n      <td>3</td>\n      <td>1</td>\n      <td>22.0</td>\n      <td>1</td>\n      <td>0</td>\n      <td>7.2500</td>\n      <td>0.0</td>\n      <td>0.0</td>\n      <td>1.0</td>\n      <td>0.0</td>\n    </tr>\n    <tr>\n      <th>1</th>\n      <td>2</td>\n      <td>1</td>\n      <td>1</td>\n      <td>0</td>\n      <td>38.0</td>\n      <td>1</td>\n      <td>0</td>\n      <td>71.2833</td>\n      <td>1.0</td>\n      <td>0.0</td>\n      <td>0.0</td>\n      <td>0.0</td>\n    </tr>\n    <tr>\n      <th>2</th>\n      <td>3</td>\n      <td>1</td>\n      <td>3</td>\n      <td>0</td>\n      <td>26.0</td>\n      <td>0</td>\n      <td>0</td>\n      <td>7.9250</td>\n      <td>0.0</td>\n      <td>0.0</td>\n      <td>1.0</td>\n      <td>0.0</td>\n    </tr>\n    <tr>\n      <th>3</th>\n      <td>4</td>\n      <td>1</td>\n      <td>1</td>\n      <td>0</td>\n      <td>35.0</td>\n      <td>1</td>\n      <td>0</td>\n      <td>53.1000</td>\n      <td>0.0</td>\n      <td>0.0</td>\n      <td>1.0</td>\n      <td>0.0</td>\n    </tr>\n    <tr>\n      <th>4</th>\n      <td>5</td>\n      <td>0</td>\n      <td>3</td>\n      <td>1</td>\n      <td>35.0</td>\n      <td>0</td>\n      <td>0</td>\n      <td>8.0500</td>\n      <td>0.0</td>\n      <td>0.0</td>\n      <td>1.0</td>\n      <td>0.0</td>\n    </tr>\n    <tr>\n      <th>5</th>\n      <td>6</td>\n      <td>0</td>\n      <td>3</td>\n      <td>1</td>\n      <td>NaN</td>\n      <td>0</td>\n      <td>0</td>\n      <td>8.4583</td>\n      <td>0.0</td>\n      <td>1.0</td>\n      <td>0.0</td>\n      <td>0.0</td>\n    </tr>\n    <tr>\n      <th>6</th>\n      <td>7</td>\n      <td>0</td>\n      <td>1</td>\n      <td>1</td>\n      <td>54.0</td>\n      <td>0</td>\n      <td>0</td>\n      <td>51.8625</td>\n      <td>0.0</td>\n      <td>0.0</td>\n      <td>1.0</td>\n      <td>0.0</td>\n    </tr>\n    <tr>\n      <th>7</th>\n      <td>8</td>\n      <td>0</td>\n      <td>3</td>\n      <td>1</td>\n      <td>2.0</td>\n      <td>3</td>\n      <td>1</td>\n      <td>21.0750</td>\n      <td>0.0</td>\n      <td>0.0</td>\n      <td>1.0</td>\n      <td>0.0</td>\n    </tr>\n    <tr>\n      <th>8</th>\n      <td>9</td>\n      <td>1</td>\n      <td>3</td>\n      <td>0</td>\n      <td>27.0</td>\n      <td>0</td>\n      <td>2</td>\n      <td>11.1333</td>\n      <td>0.0</td>\n      <td>0.0</td>\n      <td>1.0</td>\n      <td>0.0</td>\n    </tr>\n    <tr>\n      <th>9</th>\n      <td>10</td>\n      <td>1</td>\n      <td>2</td>\n      <td>0</td>\n      <td>14.0</td>\n      <td>1</td>\n      <td>0</td>\n      <td>30.0708</td>\n      <td>1.0</td>\n      <td>0.0</td>\n      <td>0.0</td>\n      <td>0.0</td>\n    </tr>\n  </tbody>\n</table>\n</div>"
     },
     "execution_count": 61,
     "metadata": {},
     "output_type": "execute_result"
    }
   ]
  },
  {
   "cell_type": "code",
   "source": [
    "df.info()"
   ],
   "metadata": {
    "colab": {
     "base_uri": "https://localhost:8080/"
    },
    "id": "m5rkxdPKDYtO",
    "outputId": "87bae205-4240-42b5-a360-889d25a7acce",
    "ExecuteTime": {
     "start_time": "2023-04-30T17:20:56.276813Z",
     "end_time": "2023-04-30T17:20:56.280567Z"
    }
   },
   "execution_count": 63,
   "outputs": [
    {
     "name": "stdout",
     "output_type": "stream",
     "text": [
      "<class 'pandas.core.frame.DataFrame'>\n",
      "RangeIndex: 891 entries, 0 to 890\n",
      "Data columns (total 12 columns):\n",
      " #   Column       Non-Null Count  Dtype  \n",
      "---  ------       --------------  -----  \n",
      " 0   PassengerId  891 non-null    int64  \n",
      " 1   Survived     891 non-null    int64  \n",
      " 2   Pclass       891 non-null    int64  \n",
      " 3   Sex          891 non-null    int64  \n",
      " 4   Age          714 non-null    float64\n",
      " 5   SibSp        891 non-null    int64  \n",
      " 6   Parch        891 non-null    int64  \n",
      " 7   Fare         891 non-null    float64\n",
      " 8   Embarked0    891 non-null    float64\n",
      " 9   Embarked1    891 non-null    float64\n",
      " 10  Embarked2    891 non-null    float64\n",
      " 11  Embarked3    891 non-null    float64\n",
      "dtypes: float64(6), int64(6)\n",
      "memory usage: 83.7 KB\n"
     ]
    }
   ]
  },
  {
   "cell_type": "markdown",
   "source": [
    "# 결측치 처리"
   ],
   "metadata": {
    "id": "PJfgG_IfDl4-"
   }
  },
  {
   "cell_type": "markdown",
   "source": [
    "## 제거\n",
    "\n",
    "결측치가 있는 행 혹은 열을 삭제하는 방법입니다. 이 방법은 결측치가 적을 때, 그리고 결측치가 데이터 전체에 대한 비율이 적을 때 사용됩니다."
   ],
   "metadata": {
    "id": "Ah2fp3iTDo9E"
   }
  },
  {
   "cell_type": "markdown",
   "source": [
    "#### 행 제거"
   ],
   "metadata": {
    "id": "p4oIgvEkENSH"
   }
  },
  {
   "cell_type": "code",
   "source": [
    "df_drop_row = df.dropna(axis=0)\n",
    "df_drop_row.info()"
   ],
   "metadata": {
    "colab": {
     "base_uri": "https://localhost:8080/"
    },
    "id": "kXDSvgu6D1FY",
    "outputId": "b15cdb83-b207-4236-da2b-96b7ef64c01b",
    "ExecuteTime": {
     "start_time": "2023-04-30T17:20:02.264378Z",
     "end_time": "2023-04-30T17:20:02.341360Z"
    }
   },
   "execution_count": 37,
   "outputs": [
    {
     "name": "stdout",
     "output_type": "stream",
     "text": [
      "<class 'pandas.core.frame.DataFrame'>\n",
      "Index: 714 entries, 0 to 890\n",
      "Data columns (total 12 columns):\n",
      " #   Column       Non-Null Count  Dtype  \n",
      "---  ------       --------------  -----  \n",
      " 0   PassengerId  714 non-null    int64  \n",
      " 1   Survived     714 non-null    int64  \n",
      " 2   Pclass       714 non-null    int64  \n",
      " 3   Sex          714 non-null    int64  \n",
      " 4   Age          714 non-null    float64\n",
      " 5   SibSp        714 non-null    int64  \n",
      " 6   Parch        714 non-null    int64  \n",
      " 7   Fare         714 non-null    float64\n",
      " 8   Embarked0    714 non-null    float64\n",
      " 9   Embarked1    714 non-null    float64\n",
      " 10  Embarked2    714 non-null    float64\n",
      " 11  Embarked3    714 non-null    float64\n",
      "dtypes: float64(6), int64(6)\n",
      "memory usage: 72.5 KB\n"
     ]
    }
   ]
  },
  {
   "cell_type": "markdown",
   "source": [
    "#### 열 제거"
   ],
   "metadata": {
    "id": "MDwadczgESW1"
   }
  },
  {
   "cell_type": "code",
   "source": [
    "df_drop_col = df.dropna(axis=1)\n",
    "df_drop_col.info()"
   ],
   "metadata": {
    "colab": {
     "base_uri": "https://localhost:8080/"
    },
    "id": "iJmZpYpeETgf",
    "outputId": "3b98b27e-9c78-45f6-9a08-5afe7764bcc5",
    "ExecuteTime": {
     "start_time": "2023-04-30T17:20:02.270803Z",
     "end_time": "2023-04-30T17:20:02.341641Z"
    }
   },
   "execution_count": 38,
   "outputs": [
    {
     "name": "stdout",
     "output_type": "stream",
     "text": [
      "<class 'pandas.core.frame.DataFrame'>\n",
      "RangeIndex: 891 entries, 0 to 890\n",
      "Data columns (total 11 columns):\n",
      " #   Column       Non-Null Count  Dtype  \n",
      "---  ------       --------------  -----  \n",
      " 0   PassengerId  891 non-null    int64  \n",
      " 1   Survived     891 non-null    int64  \n",
      " 2   Pclass       891 non-null    int64  \n",
      " 3   Sex          891 non-null    int64  \n",
      " 4   SibSp        891 non-null    int64  \n",
      " 5   Parch        891 non-null    int64  \n",
      " 6   Fare         891 non-null    float64\n",
      " 7   Embarked0    891 non-null    float64\n",
      " 8   Embarked1    891 non-null    float64\n",
      " 9   Embarked2    891 non-null    float64\n",
      " 10  Embarked3    891 non-null    float64\n",
      "dtypes: float64(5), int64(6)\n",
      "memory usage: 76.7 KB\n"
     ]
    }
   ]
  },
  {
   "cell_type": "markdown",
   "source": [
    "## 대체\n",
    "\n",
    "결측치를 다른 값으로 대체하는 방법입니다. 대체하는 방법은 다양하게 있으며, 대표적으로 평균, 중앙값, 최빈값 등으로 대체합니다."
   ],
   "metadata": {
    "id": "ubnpyLvOE3Ic"
   }
  },
  {
   "cell_type": "markdown",
   "source": [
    "#### 원하는 값으로 대체"
   ],
   "metadata": {
    "id": "OXNcGfbuFVh4"
   }
  },
  {
   "cell_type": "code",
   "source": [
    "df.iloc[3:6, :]"
   ],
   "metadata": {
    "colab": {
     "base_uri": "https://localhost:8080/",
     "height": 142
    },
    "id": "k3VkFVqSE8JC",
    "outputId": "0c09f69b-d9b5-4347-dbd7-2a0283495bac",
    "ExecuteTime": {
     "start_time": "2023-04-30T17:21:30.439292Z",
     "end_time": "2023-04-30T17:21:30.442680Z"
    }
   },
   "execution_count": 64,
   "outputs": [
    {
     "data": {
      "text/plain": "   PassengerId  Survived  Pclass  Sex   Age  SibSp  Parch     Fare  Embarked0   \n3            4         1       1    0  35.0      1      0  53.1000        0.0  \\\n4            5         0       3    1  35.0      0      0   8.0500        0.0   \n5            6         0       3    1   NaN      0      0   8.4583        0.0   \n\n   Embarked1  Embarked2  Embarked3  \n3        0.0        1.0        0.0  \n4        0.0        1.0        0.0  \n5        1.0        0.0        0.0  ",
      "text/html": "<div>\n<style scoped>\n    .dataframe tbody tr th:only-of-type {\n        vertical-align: middle;\n    }\n\n    .dataframe tbody tr th {\n        vertical-align: top;\n    }\n\n    .dataframe thead th {\n        text-align: right;\n    }\n</style>\n<table border=\"1\" class=\"dataframe\">\n  <thead>\n    <tr style=\"text-align: right;\">\n      <th></th>\n      <th>PassengerId</th>\n      <th>Survived</th>\n      <th>Pclass</th>\n      <th>Sex</th>\n      <th>Age</th>\n      <th>SibSp</th>\n      <th>Parch</th>\n      <th>Fare</th>\n      <th>Embarked0</th>\n      <th>Embarked1</th>\n      <th>Embarked2</th>\n      <th>Embarked3</th>\n    </tr>\n  </thead>\n  <tbody>\n    <tr>\n      <th>3</th>\n      <td>4</td>\n      <td>1</td>\n      <td>1</td>\n      <td>0</td>\n      <td>35.0</td>\n      <td>1</td>\n      <td>0</td>\n      <td>53.1000</td>\n      <td>0.0</td>\n      <td>0.0</td>\n      <td>1.0</td>\n      <td>0.0</td>\n    </tr>\n    <tr>\n      <th>4</th>\n      <td>5</td>\n      <td>0</td>\n      <td>3</td>\n      <td>1</td>\n      <td>35.0</td>\n      <td>0</td>\n      <td>0</td>\n      <td>8.0500</td>\n      <td>0.0</td>\n      <td>0.0</td>\n      <td>1.0</td>\n      <td>0.0</td>\n    </tr>\n    <tr>\n      <th>5</th>\n      <td>6</td>\n      <td>0</td>\n      <td>3</td>\n      <td>1</td>\n      <td>NaN</td>\n      <td>0</td>\n      <td>0</td>\n      <td>8.4583</td>\n      <td>0.0</td>\n      <td>1.0</td>\n      <td>0.0</td>\n      <td>0.0</td>\n    </tr>\n  </tbody>\n</table>\n</div>"
     },
     "execution_count": 64,
     "metadata": {},
     "output_type": "execute_result"
    }
   ]
  },
  {
   "cell_type": "code",
   "source": [
    "df_fill = df.fillna(0)\n",
    "df_fill.iloc[3:6, :]"
   ],
   "metadata": {
    "colab": {
     "base_uri": "https://localhost:8080/",
     "height": 142
    },
    "id": "8DGnKdN-FIjS",
    "outputId": "13ad6abd-5aef-4e63-dada-24b9c7015f70",
    "ExecuteTime": {
     "start_time": "2023-04-30T17:21:32.656238Z",
     "end_time": "2023-04-30T17:21:32.659995Z"
    }
   },
   "execution_count": 65,
   "outputs": [
    {
     "data": {
      "text/plain": "   PassengerId  Survived  Pclass  Sex   Age  SibSp  Parch     Fare  Embarked0   \n3            4         1       1    0  35.0      1      0  53.1000        0.0  \\\n4            5         0       3    1  35.0      0      0   8.0500        0.0   \n5            6         0       3    1   0.0      0      0   8.4583        0.0   \n\n   Embarked1  Embarked2  Embarked3  \n3        0.0        1.0        0.0  \n4        0.0        1.0        0.0  \n5        1.0        0.0        0.0  ",
      "text/html": "<div>\n<style scoped>\n    .dataframe tbody tr th:only-of-type {\n        vertical-align: middle;\n    }\n\n    .dataframe tbody tr th {\n        vertical-align: top;\n    }\n\n    .dataframe thead th {\n        text-align: right;\n    }\n</style>\n<table border=\"1\" class=\"dataframe\">\n  <thead>\n    <tr style=\"text-align: right;\">\n      <th></th>\n      <th>PassengerId</th>\n      <th>Survived</th>\n      <th>Pclass</th>\n      <th>Sex</th>\n      <th>Age</th>\n      <th>SibSp</th>\n      <th>Parch</th>\n      <th>Fare</th>\n      <th>Embarked0</th>\n      <th>Embarked1</th>\n      <th>Embarked2</th>\n      <th>Embarked3</th>\n    </tr>\n  </thead>\n  <tbody>\n    <tr>\n      <th>3</th>\n      <td>4</td>\n      <td>1</td>\n      <td>1</td>\n      <td>0</td>\n      <td>35.0</td>\n      <td>1</td>\n      <td>0</td>\n      <td>53.1000</td>\n      <td>0.0</td>\n      <td>0.0</td>\n      <td>1.0</td>\n      <td>0.0</td>\n    </tr>\n    <tr>\n      <th>4</th>\n      <td>5</td>\n      <td>0</td>\n      <td>3</td>\n      <td>1</td>\n      <td>35.0</td>\n      <td>0</td>\n      <td>0</td>\n      <td>8.0500</td>\n      <td>0.0</td>\n      <td>0.0</td>\n      <td>1.0</td>\n      <td>0.0</td>\n    </tr>\n    <tr>\n      <th>5</th>\n      <td>6</td>\n      <td>0</td>\n      <td>3</td>\n      <td>1</td>\n      <td>0.0</td>\n      <td>0</td>\n      <td>0</td>\n      <td>8.4583</td>\n      <td>0.0</td>\n      <td>1.0</td>\n      <td>0.0</td>\n      <td>0.0</td>\n    </tr>\n  </tbody>\n</table>\n</div>"
     },
     "execution_count": 65,
     "metadata": {},
     "output_type": "execute_result"
    }
   ]
  },
  {
   "cell_type": "markdown",
   "source": [
    "#### 앞 또는 뒤 값으로 대체"
   ],
   "metadata": {
    "id": "UdXhHN4WFYCH"
   }
  },
  {
   "cell_type": "code",
   "source": [
    "df.iloc[4:7, :]"
   ],
   "metadata": {
    "colab": {
     "base_uri": "https://localhost:8080/",
     "height": 142
    },
    "id": "UsVYb8MLFaVm",
    "outputId": "b5c9bd65-dd62-4ab0-b468-b21f3e3f0d01",
    "ExecuteTime": {
     "start_time": "2023-04-30T17:21:36.818736Z",
     "end_time": "2023-04-30T17:21:36.823303Z"
    }
   },
   "execution_count": 66,
   "outputs": [
    {
     "data": {
      "text/plain": "   PassengerId  Survived  Pclass  Sex   Age  SibSp  Parch     Fare  Embarked0   \n4            5         0       3    1  35.0      0      0   8.0500        0.0  \\\n5            6         0       3    1   NaN      0      0   8.4583        0.0   \n6            7         0       1    1  54.0      0      0  51.8625        0.0   \n\n   Embarked1  Embarked2  Embarked3  \n4        0.0        1.0        0.0  \n5        1.0        0.0        0.0  \n6        0.0        1.0        0.0  ",
      "text/html": "<div>\n<style scoped>\n    .dataframe tbody tr th:only-of-type {\n        vertical-align: middle;\n    }\n\n    .dataframe tbody tr th {\n        vertical-align: top;\n    }\n\n    .dataframe thead th {\n        text-align: right;\n    }\n</style>\n<table border=\"1\" class=\"dataframe\">\n  <thead>\n    <tr style=\"text-align: right;\">\n      <th></th>\n      <th>PassengerId</th>\n      <th>Survived</th>\n      <th>Pclass</th>\n      <th>Sex</th>\n      <th>Age</th>\n      <th>SibSp</th>\n      <th>Parch</th>\n      <th>Fare</th>\n      <th>Embarked0</th>\n      <th>Embarked1</th>\n      <th>Embarked2</th>\n      <th>Embarked3</th>\n    </tr>\n  </thead>\n  <tbody>\n    <tr>\n      <th>4</th>\n      <td>5</td>\n      <td>0</td>\n      <td>3</td>\n      <td>1</td>\n      <td>35.0</td>\n      <td>0</td>\n      <td>0</td>\n      <td>8.0500</td>\n      <td>0.0</td>\n      <td>0.0</td>\n      <td>1.0</td>\n      <td>0.0</td>\n    </tr>\n    <tr>\n      <th>5</th>\n      <td>6</td>\n      <td>0</td>\n      <td>3</td>\n      <td>1</td>\n      <td>NaN</td>\n      <td>0</td>\n      <td>0</td>\n      <td>8.4583</td>\n      <td>0.0</td>\n      <td>1.0</td>\n      <td>0.0</td>\n      <td>0.0</td>\n    </tr>\n    <tr>\n      <th>6</th>\n      <td>7</td>\n      <td>0</td>\n      <td>1</td>\n      <td>1</td>\n      <td>54.0</td>\n      <td>0</td>\n      <td>0</td>\n      <td>51.8625</td>\n      <td>0.0</td>\n      <td>0.0</td>\n      <td>1.0</td>\n      <td>0.0</td>\n    </tr>\n  </tbody>\n</table>\n</div>"
     },
     "execution_count": 66,
     "metadata": {},
     "output_type": "execute_result"
    }
   ]
  },
  {
   "cell_type": "code",
   "source": [
    "df_fill = df.fillna(method='pad')  # 'pad' : 앞의 값 | 'backfill' : 뒤의 값\n",
    "df_fill.iloc[4:7, :]"
   ],
   "metadata": {
    "colab": {
     "base_uri": "https://localhost:8080/",
     "height": 142
    },
    "id": "QGMFKwgfFesO",
    "outputId": "0ea7093a-f800-4491-8d02-77baf9e42694",
    "ExecuteTime": {
     "start_time": "2023-04-30T17:21:40.228440Z",
     "end_time": "2023-04-30T17:21:40.237022Z"
    }
   },
   "execution_count": 67,
   "outputs": [
    {
     "data": {
      "text/plain": "   PassengerId  Survived  Pclass  Sex   Age  SibSp  Parch     Fare  Embarked0   \n4            5         0       3    1  35.0      0      0   8.0500        0.0  \\\n5            6         0       3    1  35.0      0      0   8.4583        0.0   \n6            7         0       1    1  54.0      0      0  51.8625        0.0   \n\n   Embarked1  Embarked2  Embarked3  \n4        0.0        1.0        0.0  \n5        1.0        0.0        0.0  \n6        0.0        1.0        0.0  ",
      "text/html": "<div>\n<style scoped>\n    .dataframe tbody tr th:only-of-type {\n        vertical-align: middle;\n    }\n\n    .dataframe tbody tr th {\n        vertical-align: top;\n    }\n\n    .dataframe thead th {\n        text-align: right;\n    }\n</style>\n<table border=\"1\" class=\"dataframe\">\n  <thead>\n    <tr style=\"text-align: right;\">\n      <th></th>\n      <th>PassengerId</th>\n      <th>Survived</th>\n      <th>Pclass</th>\n      <th>Sex</th>\n      <th>Age</th>\n      <th>SibSp</th>\n      <th>Parch</th>\n      <th>Fare</th>\n      <th>Embarked0</th>\n      <th>Embarked1</th>\n      <th>Embarked2</th>\n      <th>Embarked3</th>\n    </tr>\n  </thead>\n  <tbody>\n    <tr>\n      <th>4</th>\n      <td>5</td>\n      <td>0</td>\n      <td>3</td>\n      <td>1</td>\n      <td>35.0</td>\n      <td>0</td>\n      <td>0</td>\n      <td>8.0500</td>\n      <td>0.0</td>\n      <td>0.0</td>\n      <td>1.0</td>\n      <td>0.0</td>\n    </tr>\n    <tr>\n      <th>5</th>\n      <td>6</td>\n      <td>0</td>\n      <td>3</td>\n      <td>1</td>\n      <td>35.0</td>\n      <td>0</td>\n      <td>0</td>\n      <td>8.4583</td>\n      <td>0.0</td>\n      <td>1.0</td>\n      <td>0.0</td>\n      <td>0.0</td>\n    </tr>\n    <tr>\n      <th>6</th>\n      <td>7</td>\n      <td>0</td>\n      <td>1</td>\n      <td>1</td>\n      <td>54.0</td>\n      <td>0</td>\n      <td>0</td>\n      <td>51.8625</td>\n      <td>0.0</td>\n      <td>0.0</td>\n      <td>1.0</td>\n      <td>0.0</td>\n    </tr>\n  </tbody>\n</table>\n</div>"
     },
     "execution_count": 67,
     "metadata": {},
     "output_type": "execute_result"
    }
   ]
  },
  {
   "cell_type": "markdown",
   "source": [
    "#### 통계적으로 대체\n",
    "> 평균•최빈값•중앙값"
   ],
   "metadata": {
    "id": "bjgDRPpFFx3B"
   }
  },
  {
   "cell_type": "code",
   "source": [
    "df.iloc[4:7, :]"
   ],
   "metadata": {
    "colab": {
     "base_uri": "https://localhost:8080/",
     "height": 142
    },
    "id": "6XB8gJOKF-i0",
    "outputId": "2833b7df-7dc4-4daf-e9b5-16837ce5b516",
    "ExecuteTime": {
     "start_time": "2023-04-30T17:20:02.310695Z",
     "end_time": "2023-04-30T17:20:02.354328Z"
    }
   },
   "execution_count": 43,
   "outputs": [
    {
     "data": {
      "text/plain": "   PassengerId  Survived  Pclass  Sex   Age  SibSp  Parch     Fare  Embarked0   \n4            5         0       3    1  35.0      0      0   8.0500        0.0  \\\n5            6         0       3    1   NaN      0      0   8.4583        0.0   \n6            7         0       1    1  54.0      0      0  51.8625        0.0   \n\n   Embarked1  Embarked2  Embarked3  \n4        0.0        1.0        0.0  \n5        1.0        0.0        0.0  \n6        0.0        1.0        0.0  ",
      "text/html": "<div>\n<style scoped>\n    .dataframe tbody tr th:only-of-type {\n        vertical-align: middle;\n    }\n\n    .dataframe tbody tr th {\n        vertical-align: top;\n    }\n\n    .dataframe thead th {\n        text-align: right;\n    }\n</style>\n<table border=\"1\" class=\"dataframe\">\n  <thead>\n    <tr style=\"text-align: right;\">\n      <th></th>\n      <th>PassengerId</th>\n      <th>Survived</th>\n      <th>Pclass</th>\n      <th>Sex</th>\n      <th>Age</th>\n      <th>SibSp</th>\n      <th>Parch</th>\n      <th>Fare</th>\n      <th>Embarked0</th>\n      <th>Embarked1</th>\n      <th>Embarked2</th>\n      <th>Embarked3</th>\n    </tr>\n  </thead>\n  <tbody>\n    <tr>\n      <th>4</th>\n      <td>5</td>\n      <td>0</td>\n      <td>3</td>\n      <td>1</td>\n      <td>35.0</td>\n      <td>0</td>\n      <td>0</td>\n      <td>8.0500</td>\n      <td>0.0</td>\n      <td>0.0</td>\n      <td>1.0</td>\n      <td>0.0</td>\n    </tr>\n    <tr>\n      <th>5</th>\n      <td>6</td>\n      <td>0</td>\n      <td>3</td>\n      <td>1</td>\n      <td>NaN</td>\n      <td>0</td>\n      <td>0</td>\n      <td>8.4583</td>\n      <td>0.0</td>\n      <td>1.0</td>\n      <td>0.0</td>\n      <td>0.0</td>\n    </tr>\n    <tr>\n      <th>6</th>\n      <td>7</td>\n      <td>0</td>\n      <td>1</td>\n      <td>1</td>\n      <td>54.0</td>\n      <td>0</td>\n      <td>0</td>\n      <td>51.8625</td>\n      <td>0.0</td>\n      <td>0.0</td>\n      <td>1.0</td>\n      <td>0.0</td>\n    </tr>\n  </tbody>\n</table>\n</div>"
     },
     "execution_count": 43,
     "metadata": {},
     "output_type": "execute_result"
    }
   ]
  },
  {
   "cell_type": "code",
   "source": [
    "df_fill = df.fillna(df.mean())  # df.mean() : 평균값 | df.median() : 중앙값 | df[{feature}].mode()[0] : 최빈값\n",
    "df_fill.iloc[4:7, :]"
   ],
   "metadata": {
    "colab": {
     "base_uri": "https://localhost:8080/",
     "height": 142
    },
    "id": "nUgtu-KxGCih",
    "outputId": "d08ff0a0-a8c2-422d-c6c3-c067b8d7f910",
    "ExecuteTime": {
     "start_time": "2023-04-30T17:21:45.105761Z",
     "end_time": "2023-04-30T17:21:45.124794Z"
    }
   },
   "execution_count": 68,
   "outputs": [
    {
     "data": {
      "text/plain": "   PassengerId  Survived  Pclass  Sex        Age  SibSp  Parch     Fare   \n4            5         0       3    1  35.000000      0      0   8.0500  \\\n5            6         0       3    1  29.699118      0      0   8.4583   \n6            7         0       1    1  54.000000      0      0  51.8625   \n\n   Embarked0  Embarked1  Embarked2  Embarked3  \n4        0.0        0.0        1.0        0.0  \n5        0.0        1.0        0.0        0.0  \n6        0.0        0.0        1.0        0.0  ",
      "text/html": "<div>\n<style scoped>\n    .dataframe tbody tr th:only-of-type {\n        vertical-align: middle;\n    }\n\n    .dataframe tbody tr th {\n        vertical-align: top;\n    }\n\n    .dataframe thead th {\n        text-align: right;\n    }\n</style>\n<table border=\"1\" class=\"dataframe\">\n  <thead>\n    <tr style=\"text-align: right;\">\n      <th></th>\n      <th>PassengerId</th>\n      <th>Survived</th>\n      <th>Pclass</th>\n      <th>Sex</th>\n      <th>Age</th>\n      <th>SibSp</th>\n      <th>Parch</th>\n      <th>Fare</th>\n      <th>Embarked0</th>\n      <th>Embarked1</th>\n      <th>Embarked2</th>\n      <th>Embarked3</th>\n    </tr>\n  </thead>\n  <tbody>\n    <tr>\n      <th>4</th>\n      <td>5</td>\n      <td>0</td>\n      <td>3</td>\n      <td>1</td>\n      <td>35.000000</td>\n      <td>0</td>\n      <td>0</td>\n      <td>8.0500</td>\n      <td>0.0</td>\n      <td>0.0</td>\n      <td>1.0</td>\n      <td>0.0</td>\n    </tr>\n    <tr>\n      <th>5</th>\n      <td>6</td>\n      <td>0</td>\n      <td>3</td>\n      <td>1</td>\n      <td>29.699118</td>\n      <td>0</td>\n      <td>0</td>\n      <td>8.4583</td>\n      <td>0.0</td>\n      <td>1.0</td>\n      <td>0.0</td>\n      <td>0.0</td>\n    </tr>\n    <tr>\n      <th>6</th>\n      <td>7</td>\n      <td>0</td>\n      <td>1</td>\n      <td>1</td>\n      <td>54.000000</td>\n      <td>0</td>\n      <td>0</td>\n      <td>51.8625</td>\n      <td>0.0</td>\n      <td>0.0</td>\n      <td>1.0</td>\n      <td>0.0</td>\n    </tr>\n  </tbody>\n</table>\n</div>"
     },
     "execution_count": 68,
     "metadata": {},
     "output_type": "execute_result"
    }
   ]
  },
  {
   "cell_type": "markdown",
   "source": [
    "**일단 간단하게 행 제거를 사용하도록 하겠다.**"
   ],
   "metadata": {
    "id": "G9KMZ0aPI6or"
   }
  },
  {
   "cell_type": "code",
   "source": [
    "df = df.dropna(axis=0)"
   ],
   "metadata": {
    "id": "Hrca-HsCI_44",
    "ExecuteTime": {
     "start_time": "2023-04-30T17:20:02.328329Z",
     "end_time": "2023-04-30T17:20:02.404925Z"
    }
   },
   "execution_count": 45,
   "outputs": []
  },
  {
   "cell_type": "markdown",
   "source": [
    "# 차원 축소\n",
    "\n",
    "차원축소를 해야하는 가장 큰 이유는 차원의 저주(curse of dimension) 때문입니다. 차원의 저주란 데이터 학습을 위한 차원(특성)이 증가하면 서 모델의 성능이 떨어지는 현상을 말합니다."
   ],
   "metadata": {
    "id": "d4rdUpSaHaCN"
   }
  },
  {
   "cell_type": "markdown",
   "source": [
    "## 특성 선택\n",
    "\n",
    "Feature Selection(특성 선택)은 data set 에서 유의미한 특성을 선택하는 과정입니다. 학습에 악영향을 미치는 불필요한 특성을 제거하여 모델의 복잡성을 감소시켜, 과적합 방지와 모델성능 향상의 효과가 있습니다.\n",
    "\n",
    "[ 대표적인 특성 선택의 종류 ]\n",
    "- 해당 도매인의 지식을 이용\n",
    "- 피어슨 상관계수(Pearson correlation)\n",
    "- 랜덤 포레스트 특성 중요도(Random Forest Feature Importance)\n",
    "- Lasso"
   ],
   "metadata": {
    "id": "dGkMIN0EHiJf"
   }
  },
  {
   "cell_type": "markdown",
   "source": [
    "### 피어슨 상관계수\n",
    "\n",
    "피어슨 상관계수는 두 변수 간 선형적인 상관관계의 정도를 나타내는 지표입니다.\n",
    "\n",
    "-1 ~ 1의 값을 가지며 절대값이 클수록 높은 상관관계를, 0에 가까울수록 낮은 상관관계를 나타냅니다."
   ],
   "metadata": {
    "id": "GM9jXPeWIVAI"
   }
  },
  {
   "cell_type": "code",
   "source": [
    "df.corr()['Survived'].abs().plot.bar()"
   ],
   "metadata": {
    "colab": {
     "base_uri": "https://localhost:8080/",
     "height": 517
    },
    "id": "SR24PCgxIrFH",
    "outputId": "8d293581-e3d1-4b4f-8a0b-770a5da58e21",
    "ExecuteTime": {
     "start_time": "2023-04-30T17:20:02.333487Z",
     "end_time": "2023-04-30T17:20:02.755364Z"
    }
   },
   "execution_count": 46,
   "outputs": [
    {
     "data": {
      "text/plain": "<Axes: >"
     },
     "execution_count": 46,
     "metadata": {},
     "output_type": "execute_result"
    },
    {
     "data": {
      "text/plain": "<Figure size 640x480 with 1 Axes>",
      "image/png": "[encoded data removed]"
     },
     "metadata": {},
     "output_type": "display_data"
    }
   ]
  },
  {
   "cell_type": "markdown",
   "source": [
    "### 랜덤 포레스트 특성 중요도\n",
    "\n",
    "Random Forest의 Feature Importance는 각 feature의 기여도를 나타내는 지표입니다.\n",
    "\n",
    "Feature Importance가 높은 feature일수록 예측 모델에 중요한 역할 한다고 해석할 수 있습니다."
   ],
   "metadata": {
    "id": "eZ65Gc3FJFf9"
   }
  },
  {
   "cell_type": "code",
   "source": [
    "from sklearn.ensemble import RandomForestRegressor\n",
    "import matplotlib.pyplot as plt\n",
    "\n",
    "df_x = df.drop(['Survived'], axis=1)\n",
    "df_y = df['Survived']\n",
    "\n",
    "rf_model = RandomForestRegressor(n_estimators=100, random_state=42)\n",
    "rf_model.fit(df_x, df_y)\n",
    "\n",
    "# 학습된 모델의 feature importance 확인\n",
    "importance = rf_model.feature_importances_\n",
    "plt.figure(figsize=(13, 5))\n",
    "plt.bar(df_x.columns, importance)"
   ],
   "metadata": {
    "colab": {
     "base_uri": "https://localhost:8080/",
     "height": 462
    },
    "id": "jQkB1cuCJTDe",
    "outputId": "7c456777-9905-4ba1-e232-ae136ed7d520",
    "ExecuteTime": {
     "start_time": "2023-04-30T17:20:02.748710Z",
     "end_time": "2023-04-30T17:20:03.834004Z"
    }
   },
   "execution_count": 47,
   "outputs": [
    {
     "data": {
      "text/plain": "<BarContainer object of 11 artists>"
     },
     "execution_count": 47,
     "metadata": {},
     "output_type": "execute_result"
    },
    {
     "data": {
      "text/plain": "<Figure size 1300x500 with 1 Axes>",
      "image/png": "[encoded data removed]"
     },
     "metadata": {},
     "output_type": "display_data"
    }
   ]
  },
  {
   "cell_type": "markdown",
   "source": [
    "### LASSO\n",
    "\n",
    "Lasso 모델에서는 L1 규제를 사용 하기 때문에, 일부 feature의 계수 를 0으로 만들어 해당 feature를 모델에서 제외시키는 효과가 있 습니다.\n",
    "\n",
    "따라서 계수가 0이 아닌 feature일 수록 해당 모델에 기여한 정도가 크다고 해석할 수 있습니다."
   ],
   "metadata": {
    "id": "2PMDHBFCKKXx"
   }
  },
  {
   "cell_type": "code",
   "source": [
    "from sklearn.linear_model import Lasso\n",
    "import matplotlib.pyplot as plt\n",
    "\n",
    "df_x = df.drop(['Survived'], axis=1)\n",
    "df_y = df['Survived']\n",
    "\n",
    "lasso_model = Lasso(alpha=0.1)  # alpha -> 규제 강도 설정 매개변수\n",
    "lasso_model.fit(df_x, df_y)\n",
    "\n",
    "# 학습된 모델을 사용하여 예측 수행\n",
    "y_pred = lasso_model.predict(df_x)\n",
    "\n",
    "# 학습된 모델의 feature importance 확인\n",
    "importance = lasso_model.coef_\n",
    "plt.figure(figsize=(13, 5))\n",
    "plt.bar(df_x.columns, importance)"
   ],
   "metadata": {
    "colab": {
     "base_uri": "https://localhost:8080/",
     "height": 462
    },
    "id": "wS4r9D_iKUAu",
    "outputId": "387ebdf8-e810-4f8b-e6e3-0b64c13295fc",
    "ExecuteTime": {
     "start_time": "2023-04-30T17:20:03.819118Z",
     "end_time": "2023-04-30T17:20:03.939728Z"
    }
   },
   "execution_count": 48,
   "outputs": [
    {
     "data": {
      "text/plain": "<BarContainer object of 11 artists>"
     },
     "execution_count": 48,
     "metadata": {},
     "output_type": "execute_result"
    },
    {
     "data": {
      "text/plain": "<Figure size 1300x500 with 1 Axes>",
      "image/png": "[encoded data removed]"
     },
     "metadata": {},
     "output_type": "display_data"
    }
   ]
  },
  {
   "cell_type": "markdown",
   "source": [
    "## 특성 추출\n",
    "\n",
    "Feature Extraction(특성 추출)은 데이터에서 의미 있는 정보를 추출하여 새로운feature를생성하는과정입니다. FeatureExtraction은특히고차 원 데이터에서 유용합니다.\n",
    "\n",
    "[ 대표적인 특성 추출 종류 ]\n",
    "- PCA(주성분 분석)\n",
    "- LDA(선형 판별 분석)"
   ],
   "metadata": {
    "id": "82JxCN2SLlsE"
   }
  },
  {
   "cell_type": "markdown",
   "source": [
    "### PCA\n",
    "\n",
    "주어진 데이터의 주요한 정보를 나타 내는 새로운 feature를 추출하여 차원을 축소합니다.\n",
    "\n",
    "이러한 feature를 주성분이라고 하며, PCA를 통해 데이터를 잘 표현하는 k개의 주성분을 추출하여 데이터를 k차원으로 축소할 수 있습니다."
   ],
   "metadata": {
    "collapsed": false
   }
  },
  {
   "cell_type": "code",
   "source": [
    "from sklearn.decomposition import PCA\n",
    "import matplotlib.pyplot as plt\n",
    "\n",
    "df_x = df.drop(['Survived'], axis=1)\n",
    "pca = PCA()\n",
    "\n",
    "# variance ratio 계산\n",
    "pca.fit(df_x)\n",
    "variance_ratio = pca.explained_variance_ratio_\n",
    "\n",
    "# elbow 그래프 그리기\n",
    "plt.figure(figsize=(13, 5))\n",
    "plt.plot(range(1, len(variance_ratio) + 1), variance_ratio, marker='o')\n",
    "plt.xlabel('Number of Components')\n",
    "plt.ylabel('Variance Ratio')\n",
    "plt.title('PCA Elbow Graph')\n",
    "plt.show()"
   ],
   "metadata": {
    "colab": {
     "base_uri": "https://localhost:8080/",
     "height": 487
    },
    "id": "CdtxHBqfL5Sd",
    "outputId": "95931d63-af75-4e8d-928f-e119428abaa3",
    "ExecuteTime": {
     "start_time": "2023-04-30T17:20:03.938973Z",
     "end_time": "2023-04-30T17:20:04.094242Z"
    }
   },
   "execution_count": 49,
   "outputs": [
    {
     "data": {
      "text/plain": "<Figure size 1300x500 with 1 Axes>",
      "image/png": "[encoded data removed]"
     },
     "metadata": {},
     "output_type": "display_data"
    }
   ]
  },
  {
   "cell_type": "markdown",
   "source": [
    "### LDA\n",
    "\n",
    "분류 문제에서 차원원 축소를 위해 사용되는 방법으로, PCA와는 달리 클래스 간 분산과 클래스 내 분산을 모두 고려합니다."
   ],
   "metadata": {
    "id": "9XYTYl20VTw6"
   }
  },
  {
   "cell_type": "code",
   "source": [
    "from sklearn.discriminant_analysis import LinearDiscriminantAnalysis\n",
    "import matplotlib.pyplot as plt\n",
    "\n",
    "# 예시 데이터 로드\n",
    "df_x = df.drop(['Survived'], axis=1)\n",
    "\n",
    "#LDA 모델 생성 및 variance ratio 계산\n",
    "lda = LinearDiscriminantAnalysis()\n",
    "lda.fit(df_x, df_y)\n",
    "\n",
    "print('LDA설명률 : ', lda.explained_variance_ratio_)\n",
    "df_x = lda.transform(df_x)"
   ],
   "metadata": {
    "colab": {
     "base_uri": "https://localhost:8080/"
    },
    "id": "zIavl_KnVqfc",
    "outputId": "6adb9bc1-cf3d-4d6e-9256-4d871619c6f0",
    "ExecuteTime": {
     "start_time": "2023-04-30T17:20:04.096363Z",
     "end_time": "2023-04-30T17:20:04.105419Z"
    }
   },
   "execution_count": 50,
   "outputs": [
    {
     "name": "stdout",
     "output_type": "stream",
     "text": [
      "LDA설명률 :  [1.]\n"
     ]
    }
   ]
  },
  {
   "cell_type": "markdown",
   "source": [
    "# 피처 스케일링\n",
    "\n",
    "특성(피처)들의 값을 일정한 수준으로 맞춰주는 것이 피처 스케일링이라 불립니다. 특성마다 분산, 범위 등 다양한 통계학적 특성이 다르기 때문에, 각 특성을 비교 분석하기가 힘들고 학습에 악영향을 줍니다.\n",
    "\n",
    "[ 피처 스케일링 종류 ]\n",
    "- 표준화\n",
    "- 정규화"
   ],
   "metadata": {
    "id": "Ik5BjDKkWr8J"
   }
  },
  {
   "cell_type": "markdown",
   "source": [
    "## 표준화\n",
    "\n",
    "표준화의 목적은 데이터 셋의 numerical value의 범위를 파라미터로 설정한 평균과 분산이 되도록 하는 방법입니다."
   ],
   "metadata": {
    "id": "NiyR9qAwXGvg"
   }
  },
  {
   "cell_type": "markdown",
   "source": [
    "### Standard Scaler\n",
    "\n",
    "대표적인 표준화 방법입니다. 특성별로 데이터를 정규분포(평균 0, 분산 1)로 변경합니다."
   ],
   "metadata": {
    "id": "cp1c8SkzXhSs"
   }
  },
  {
   "cell_type": "code",
   "source": [
    "from sklearn.preprocessing import StandardScaler\n",
    "\n",
    "Scaler = StandardScaler()\n",
    "df_standard = Scaler.fit_transform(df)\n",
    "\n",
    "df_standard[0:2]"
   ],
   "metadata": {
    "colab": {
     "base_uri": "https://localhost:8080/"
    },
    "id": "GVkO2_OKWySp",
    "outputId": "06347679-ed6d-4aed-d2dc-04fa1211764b",
    "ExecuteTime": {
     "start_time": "2023-04-30T17:20:04.106921Z",
     "end_time": "2023-04-30T17:20:04.111864Z"
    }
   },
   "execution_count": 51,
   "outputs": [
    {
     "data": {
      "text/plain": "array([[-1.72853202, -0.82702011,  0.91123237,  0.75905134, -0.53037664,\n         0.52457013, -0.50589515, -0.51897787, -0.47180795, -0.20203051,\n         0.53740921, -0.05299989],\n       [-1.7246701 ,  1.20916044, -1.47636364, -1.31743394,  0.57183099,\n         0.52457013, -0.50589515,  0.69189675,  2.11950647, -0.20203051,\n        -1.86077941, -0.05299989]])"
     },
     "execution_count": 51,
     "metadata": {},
     "output_type": "execute_result"
    }
   ]
  },
  {
   "cell_type": "markdown",
   "source": [
    "#### 시각화"
   ],
   "metadata": {
    "id": "0cNAs1bNX-yR"
   }
  },
  {
   "cell_type": "code",
   "source": [
    "import matplotlib.pyplot as pit\n",
    "\n",
    "fig, axs = plt.subplots(1, 2, figsize=(10, 3))\n",
    "\n",
    "axs[0].hist(df.iloc[:, 4])\n",
    "axs[0].set_title('Before')\n",
    "\n",
    "axs[1].hist(df_standard[:, 4])\n",
    "axs[1].set_title('After')"
   ],
   "metadata": {
    "colab": {
     "base_uri": "https://localhost:8080/",
     "height": 331
    },
    "id": "eTE6doOyYBFt",
    "outputId": "6d1f7749-d98f-47f5-fabe-8e7405f1a2a2",
    "ExecuteTime": {
     "start_time": "2023-04-30T17:20:04.116777Z",
     "end_time": "2023-04-30T17:20:04.310501Z"
    }
   },
   "execution_count": 52,
   "outputs": [
    {
     "data": {
      "text/plain": "Text(0.5, 1.0, 'After')"
     },
     "execution_count": 52,
     "metadata": {},
     "output_type": "execute_result"
    },
    {
     "data": {
      "text/plain": "<Figure size 1000x300 with 2 Axes>",
      "image/png": "[encoded data removed]"
     },
     "metadata": {},
     "output_type": "display_data"
    }
   ]
  },
  {
   "cell_type": "markdown",
   "source": [
    "## 정규화\n",
    "\n",
    "정규화의 목적은 데이터 셋의 numerical value 범위를 사용자가 설정한 공통 척도로 변경하는 것입니다."
   ],
   "metadata": {
    "id": "xirLLfLCYyde"
   }
  },
  {
   "cell_type": "markdown",
   "source": [
    "### MinMax Scaler\n",
    "\n",
    "대표적인 정규화 방법입니다. 특성별로 데이터를 0 ~ 1 범위로 변경합니다."
   ],
   "metadata": {
    "id": "Rk7awR5fZBAy"
   }
  },
  {
   "cell_type": "code",
   "source": [
    "from sklearn.preprocessing import MinMaxScaler\n",
    "\n",
    "Scaler = MinMaxScaler()\n",
    "df_MinMax = Scaler.fit_transform(df)\n",
    "\n",
    "df_MinMax[0:2]"
   ],
   "metadata": {
    "colab": {
     "base_uri": "https://localhost:8080/"
    },
    "id": "OzXT99_4ZYyj",
    "outputId": "6dffb550-0d79-4975-cca6-d21b36e8ed77",
    "ExecuteTime": {
     "start_time": "2023-04-30T17:20:04.294044Z",
     "end_time": "2023-04-30T17:20:04.310970Z"
    }
   },
   "execution_count": 53,
   "outputs": [
    {
     "data": {
      "text/plain": "array([[0.        , 0.        , 1.        , 1.        , 0.27117366,\n        0.2       , 0.        , 0.01415106, 0.        , 0.        ,\n        1.        , 0.        ],\n       [0.0011236 , 1.        , 0.        , 0.        , 0.4722292 ,\n        0.2       , 0.        , 0.13913574, 1.        , 0.        ,\n        0.        , 0.        ]])"
     },
     "execution_count": 53,
     "metadata": {},
     "output_type": "execute_result"
    }
   ]
  },
  {
   "cell_type": "markdown",
   "source": [
    "#### 시각화"
   ],
   "metadata": {
    "id": "bC5XnVR3ZoCG"
   }
  },
  {
   "cell_type": "code",
   "source": [
    "import matplotlib.pyplot as plt\n",
    "\n",
    "fig, axs = plt.subplots(1, 2, figsize=(10, 3))\n",
    "\n",
    "axs[0].hist(df.iloc[:, 4])\n",
    "axs[0].set_title('Before')\n",
    "\n",
    "axs[1].hist(df_MinMax[:, 4])\n",
    "axs[1].set_title('After')"
   ],
   "metadata": {
    "colab": {
     "base_uri": "https://localhost:8080/",
     "height": 331
    },
    "id": "IPrWyQogZriH",
    "outputId": "62a24572-fb40-4c4d-aad8-e70e1e2ed5fa",
    "ExecuteTime": {
     "start_time": "2023-04-30T17:20:04.317336Z",
     "end_time": "2023-04-30T17:20:04.480054Z"
    }
   },
   "execution_count": 54,
   "outputs": [
    {
     "data": {
      "text/plain": "Text(0.5, 1.0, 'After')"
     },
     "execution_count": 54,
     "metadata": {},
     "output_type": "execute_result"
    },
    {
     "data": {
      "text/plain": "<Figure size 1000x300 with 2 Axes>",
      "image/png": "[encoded data removed]"
     },
     "metadata": {},
     "output_type": "display_data"
    }
   ]
  }
 ]
}
