{
 "nbformat": 4,
 "nbformat_minor": 0,
 "metadata": {
  "colab": {
   "provenance": []
  },
  "kernelspec": {
   "name": "python3",
   "language": "python",
   "display_name": "Python 3 (ipykernel)"
  },
  "language_info": {
   "name": "python"
  }
 },
 "cells": [
  {
   "cell_type": "code",
   "execution_count": null,
   "metadata": {
    "id": "c-f0PELy6nTP",
    "ExecuteTime": {
     "start_time": "2023-04-18T12:22:41.220990Z",
     "end_time": "2023-04-18T12:22:41.420838Z"
    }
   },
   "outputs": [],
   "source": [
    "import pandas as pd\n",
    "import numpy as np"
   ]
  },
  {
   "cell_type": "code",
   "source": [
    "df = pd.read_csv(\n",
    "    'https://raw.githubusercontent.com/TeamLab/machine_learning_from_scratch_with_python/master/code/ch12/titanic/train.csv')"
   ],
   "metadata": {
    "id": "HEtcaG9R67cx",
    "ExecuteTime": {
     "start_time": "2023-04-18T12:22:41.232987Z",
     "end_time": "2023-04-18T12:22:41.814961Z"
    }
   },
   "execution_count": null,
   "outputs": []
  },
  {
   "cell_type": "code",
   "source": [
    "df.head(2)"
   ],
   "metadata": {
    "colab": {
     "base_uri": "https://localhost:8080/",
     "height": 111
    },
    "id": "c4HRtgep6_tI",
    "outputId": "51e7bee8-96f9-4705-b6b6-c0b1eab545fd",
    "ExecuteTime": {
     "start_time": "2023-04-18T12:22:41.504953Z",
     "end_time": "2023-04-18T12:22:41.815781Z"
    }
   },
   "execution_count": null,
   "outputs": []
  },
  {
   "cell_type": "code",
   "source": [
    "df.info()"
   ],
   "metadata": {
    "colab": {
     "base_uri": "https://localhost:8080/"
    },
    "id": "lFODNTdV8jZk",
    "outputId": "8157838f-db3a-4d26-db4a-0d9289719dca",
    "ExecuteTime": {
     "start_time": "2023-04-18T12:22:41.511224Z",
     "end_time": "2023-04-18T12:22:41.816283Z"
    }
   },
   "execution_count": null,
   "outputs": []
  },
  {
   "cell_type": "markdown",
   "source": [
    "# 문자열 치환"
   ],
   "metadata": {
    "id": "izgxaB8MDvxB"
   }
  },
  {
   "cell_type": "markdown",
   "source": [
    "문자열 치환 - **컴럼 전체 삭제**"
   ],
   "metadata": {
    "id": "Q0MXNDm2-r6r"
   }
  },
  {
   "cell_type": "code",
   "source": [
    "df = df.drop(['Name'], axis=1)"
   ],
   "metadata": {
    "id": "mAn3sG2R-PQ_",
    "ExecuteTime": {
     "start_time": "2023-04-18T12:22:41.521543Z",
     "end_time": "2023-04-18T12:22:41.816515Z"
    }
   },
   "execution_count": null,
   "outputs": []
  },
  {
   "cell_type": "code",
   "source": [
    "df.head(2)"
   ],
   "metadata": {
    "colab": {
     "base_uri": "https://localhost:8080/",
     "height": 111
    },
    "id": "OIRvM8YF-YDy",
    "outputId": "5f07ab52-e590-43ad-c2cb-cf2b86f52e91",
    "ExecuteTime": {
     "start_time": "2023-04-18T12:22:41.529746Z",
     "end_time": "2023-04-18T12:22:41.821616Z"
    }
   },
   "execution_count": null,
   "outputs": []
  },
  {
   "cell_type": "markdown",
   "source": [
    "문자열 치환 - **라벨 인코딩** : 특정 문자열 데이터를 정수와 매칭하여 단순 변환하는 방식으로 대소 관계에 영향을 주기 때문에 설명 변수에는 잘 사용하지 않는다."
   ],
   "metadata": {
    "id": "HDB6QH1k-g8j"
   }
  },
  {
   "cell_type": "code",
   "source": [
    "from sklearn.preprocessing import LabelEncoder\n",
    "\n",
    "encoder = LabelEncoder()\n",
    "df['Sex'] = encoder.fit_transform(df['Sex'].values)\n",
    "print(df.head(2))"
   ],
   "metadata": {
    "colab": {
     "base_uri": "https://localhost:8080/"
    },
    "id": "b1xA2Wvp-YLH",
    "outputId": "0d6154ae-29ad-4982-bc3a-51424a480cf1",
    "ExecuteTime": {
     "start_time": "2023-04-18T12:22:41.535106Z",
     "end_time": "2023-04-18T12:22:42.294504Z"
    }
   },
   "execution_count": null,
   "outputs": []
  },
  {
   "cell_type": "markdown",
   "source": [
    "문자열 치환 - **원핫 인코딩** : 유일한 문자열의 개수만큼 컬럼을 생성하여 그중 하나의 위치에만 1을 대입하는 방식, 일반적인 전처리 방법으로 메모리 낭비가 심하다."
   ],
   "metadata": {
    "id": "jrXkbN8PBRqf"
   }
  },
  {
   "cell_type": "code",
   "source": [
    "from sklearn.preprocessing import OneHotEncoder\n",
    "\n",
    "oh_encoder = OneHotEncoder(sparse=False)\n",
    "oh_df = oh_encoder.fit_transform(np.array(df['Embarked']).reshape(-1, 1))\n",
    "\n",
    "onehot_df = pd.DataFrame(oh_df, columns=[\"Embarked\" + str(int(i)) for i in range(oh_df.shape[1])])\n",
    "df = df.drop(['Embarked'], axis=1)\n",
    "df = pd.concat([df, onehot_df], axis=1)\n",
    "df.head(2)"
   ],
   "metadata": {
    "colab": {
     "base_uri": "https://localhost:8080/",
     "height": 145
    },
    "id": "7wt_tebUBZD-",
    "outputId": "03ca279a-32e8-429e-dec2-3ae1c41cb90f",
    "ExecuteTime": {
     "start_time": "2023-04-18T12:22:42.300222Z",
     "end_time": "2023-04-18T12:22:42.310501Z"
    }
   },
   "execution_count": null,
   "outputs": []
  },
  {
   "cell_type": "markdown",
   "source": [
    "문자열 치환 - 기타"
   ],
   "metadata": {
    "id": "v-nKfGgpDKGG"
   }
  },
  {
   "cell_type": "code",
   "source": [
    "df = df.drop(['Ticket'], axis=1)\n",
    "df = df.drop(['Cabin'], axis=1)\n",
    "df.head(2)"
   ],
   "metadata": {
    "colab": {
     "base_uri": "https://localhost:8080/",
     "height": 111
    },
    "id": "hqEn-1CPC3Du",
    "outputId": "5104546e-34cf-44c7-8448-a07f1a823eb9",
    "ExecuteTime": {
     "start_time": "2023-04-18T12:22:42.317375Z",
     "end_time": "2023-04-18T12:22:42.357947Z"
    }
   },
   "execution_count": null,
   "outputs": []
  },
  {
   "cell_type": "code",
   "source": [
    "df.info()"
   ],
   "metadata": {
    "colab": {
     "base_uri": "https://localhost:8080/"
    },
    "id": "m5rkxdPKDYtO",
    "outputId": "87bae205-4240-42b5-a360-889d25a7acce",
    "ExecuteTime": {
     "start_time": "2023-04-18T12:22:42.325842Z",
     "end_time": "2023-04-18T12:22:42.358697Z"
    }
   },
   "execution_count": null,
   "outputs": []
  },
  {
   "cell_type": "markdown",
   "source": [
    "# 결측치 처리"
   ],
   "metadata": {
    "id": "PJfgG_IfDl4-"
   }
  },
  {
   "cell_type": "markdown",
   "source": [
    "## 제거\n",
    "\n",
    "결측치가 있는 행 혹은 열을 삭제하는 방법입니다. 이 방법은 결측치가 적을 때, 그리고 결측치가 데이터 전체에 대한 비율이 적을 때 사용됩니다."
   ],
   "metadata": {
    "id": "Ah2fp3iTDo9E"
   }
  },
  {
   "cell_type": "markdown",
   "source": [
    "#### 행 제거"
   ],
   "metadata": {
    "id": "p4oIgvEkENSH"
   }
  },
  {
   "cell_type": "code",
   "source": [
    "df_drop_row = df.dropna(axis=0)\n",
    "df_drop_row.info()"
   ],
   "metadata": {
    "colab": {
     "base_uri": "https://localhost:8080/"
    },
    "id": "kXDSvgu6D1FY",
    "outputId": "b15cdb83-b207-4236-da2b-96b7ef64c01b",
    "ExecuteTime": {
     "start_time": "2023-04-18T12:22:42.330606Z",
     "end_time": "2023-04-18T12:22:42.377334Z"
    }
   },
   "execution_count": null,
   "outputs": []
  },
  {
   "cell_type": "markdown",
   "source": [
    "#### 열 제거"
   ],
   "metadata": {
    "id": "MDwadczgESW1"
   }
  },
  {
   "cell_type": "code",
   "source": [
    "df_drop_col = df.dropna(axis=1)\n",
    "df_drop_col.info()"
   ],
   "metadata": {
    "colab": {
     "base_uri": "https://localhost:8080/"
    },
    "id": "iJmZpYpeETgf",
    "outputId": "3b98b27e-9c78-45f6-9a08-5afe7764bcc5",
    "ExecuteTime": {
     "start_time": "2023-04-18T12:22:42.340237Z",
     "end_time": "2023-04-18T12:22:42.377745Z"
    }
   },
   "execution_count": null,
   "outputs": []
  },
  {
   "cell_type": "markdown",
   "source": [
    "## 대체\n",
    "\n",
    "결측치를 다른 값으로 대체하는 방법입니다. 대체하는 방법은 다양하게 있으며, 대표적으로 평균, 중앙값, 최빈값 등으로 대체합니다."
   ],
   "metadata": {
    "id": "ubnpyLvOE3Ic"
   }
  },
  {
   "cell_type": "markdown",
   "source": [
    "#### 원하는 값으로 대체"
   ],
   "metadata": {
    "id": "OXNcGfbuFVh4"
   }
  },
  {
   "cell_type": "code",
   "source": [
    "df.iloc[3:6, :]"
   ],
   "metadata": {
    "colab": {
     "base_uri": "https://localhost:8080/",
     "height": 142
    },
    "id": "k3VkFVqSE8JC",
    "outputId": "0c09f69b-d9b5-4347-dbd7-2a0283495bac",
    "ExecuteTime": {
     "start_time": "2023-04-18T12:22:42.357743Z",
     "end_time": "2023-04-18T12:22:42.378097Z"
    }
   },
   "execution_count": null,
   "outputs": []
  },
  {
   "cell_type": "code",
   "source": [
    "df_fill = df.fillna(0)\n",
    "df_fill.iloc[3:6, :]"
   ],
   "metadata": {
    "colab": {
     "base_uri": "https://localhost:8080/",
     "height": 142
    },
    "id": "8DGnKdN-FIjS",
    "outputId": "13ad6abd-5aef-4e63-dada-24b9c7015f70",
    "ExecuteTime": {
     "start_time": "2023-04-18T12:22:42.368097Z",
     "end_time": "2023-04-18T12:22:42.489198Z"
    }
   },
   "execution_count": null,
   "outputs": []
  },
  {
   "cell_type": "markdown",
   "source": [
    "#### 앞 또는 뒤 값으로 대체"
   ],
   "metadata": {
    "id": "UdXhHN4WFYCH"
   }
  },
  {
   "cell_type": "code",
   "source": [
    "df.iloc[4:7, :]"
   ],
   "metadata": {
    "colab": {
     "base_uri": "https://localhost:8080/",
     "height": 142
    },
    "id": "UsVYb8MLFaVm",
    "outputId": "b5c9bd65-dd62-4ab0-b468-b21f3e3f0d01",
    "ExecuteTime": {
     "start_time": "2023-04-18T12:22:42.377045Z",
     "end_time": "2023-04-18T12:22:42.490025Z"
    }
   },
   "execution_count": null,
   "outputs": []
  },
  {
   "cell_type": "code",
   "source": [
    "df_fill = df.fillna(method='pad')  # 'pad' : 앞의 값 | 'backfill' : 뒤의 값\n",
    "df_fill.iloc[4:7, :]"
   ],
   "metadata": {
    "colab": {
     "base_uri": "https://localhost:8080/",
     "height": 142
    },
    "id": "QGMFKwgfFesO",
    "outputId": "0ea7093a-f800-4491-8d02-77baf9e42694",
    "ExecuteTime": {
     "start_time": "2023-04-18T12:22:42.386542Z",
     "end_time": "2023-04-18T12:22:42.490299Z"
    }
   },
   "execution_count": null,
   "outputs": []
  },
  {
   "cell_type": "markdown",
   "source": [
    "#### 통계적으로 대체\n",
    "> 평균•최빈값•중앙값"
   ],
   "metadata": {
    "id": "bjgDRPpFFx3B"
   }
  },
  {
   "cell_type": "code",
   "source": [
    "df.iloc[4:7, :]"
   ],
   "metadata": {
    "colab": {
     "base_uri": "https://localhost:8080/",
     "height": 142
    },
    "id": "6XB8gJOKF-i0",
    "outputId": "2833b7df-7dc4-4daf-e9b5-16837ce5b516",
    "ExecuteTime": {
     "start_time": "2023-04-18T12:22:42.398312Z",
     "end_time": "2023-04-18T12:22:42.490696Z"
    }
   },
   "execution_count": null,
   "outputs": []
  },
  {
   "cell_type": "code",
   "source": [
    "df_fill = df.fillna(df.mean())  # df.mean() : 평균값 | df.median() : 중앙값 | df['xxx'].mode()[n] : 최빈값\n",
    "df_fill.iloc[4:7, :]"
   ],
   "metadata": {
    "colab": {
     "base_uri": "https://localhost:8080/",
     "height": 142
    },
    "id": "nUgtu-KxGCih",
    "outputId": "d08ff0a0-a8c2-422d-c6c3-c067b8d7f910",
    "ExecuteTime": {
     "start_time": "2023-04-18T12:22:42.403493Z",
     "end_time": "2023-04-18T12:22:42.538631Z"
    }
   },
   "execution_count": null,
   "outputs": []
  },
  {
   "cell_type": "markdown",
   "source": [
    "**일단 간단하게 행 제거를 사용하도록 하겠다.**"
   ],
   "metadata": {
    "id": "G9KMZ0aPI6or"
   }
  },
  {
   "cell_type": "code",
   "source": [
    "df = df_drop_row"
   ],
   "metadata": {
    "id": "Hrca-HsCI_44",
    "ExecuteTime": {
     "start_time": "2023-04-18T12:22:42.419417Z",
     "end_time": "2023-04-18T12:22:42.540066Z"
    }
   },
   "execution_count": null,
   "outputs": []
  },
  {
   "cell_type": "markdown",
   "source": [
    "# 차원 축소\n",
    "\n",
    "차원축소를 해야하는 가장 큰 이유는 차원의 저주(curse of dimension) 때문입니다. 차원의 저주란 데이터 학습을 위한 차원(특성)이 증가하면 서 모델의 성능이 떨어지는 현상을 말합니다."
   ],
   "metadata": {
    "id": "d4rdUpSaHaCN"
   }
  },
  {
   "cell_type": "markdown",
   "source": [
    "## 특성 선택\n",
    "\n",
    "Feature Selection(특성 선택)은 data set 에서 유의미한 특성을 선택하는 과정입니다. 학습에 악영향을 미치는 불필요한 특성을 제거하여 모델의 복잡성을 감소시켜, 과적합 방지와 모델성능 향상의 효과가 있습니다.\n",
    "\n",
    "[ 대표적인 특성 선택의 종류 ]\n",
    "- 해당 도매인의 지식을 이용\n",
    "- 피어슨 상관계수(Pearson correlation)\n",
    "- 랜덤 포레스트 특성 중요도(Random Forest Feature Importance)\n",
    "- Lasso"
   ],
   "metadata": {
    "id": "dGkMIN0EHiJf"
   }
  },
  {
   "cell_type": "markdown",
   "source": [
    "### 피어슨 상관계수\n",
    "\n",
    "피어슨 상관계수는 두 변수 간 선형적인 상관관계의 정도를 나타내는 지표입니다.\n",
    "\n",
    "-1 ~ 1의 값을 가지며 절대값이 클수록 높은 상관관계를, 0에 가까울수록 낮은 상관관계를 나타냅니다."
   ],
   "metadata": {
    "id": "GM9jXPeWIVAI"
   }
  },
  {
   "cell_type": "code",
   "source": [
    "df.corr()['Survived'].abs().plot.bar()"
   ],
   "metadata": {
    "colab": {
     "base_uri": "https://localhost:8080/",
     "height": 517
    },
    "id": "SR24PCgxIrFH",
    "outputId": "8d293581-e3d1-4b4f-8a0b-770a5da58e21",
    "ExecuteTime": {
     "start_time": "2023-04-18T12:22:42.425671Z",
     "end_time": "2023-04-18T12:22:43.157525Z"
    }
   },
   "execution_count": null,
   "outputs": []
  },
  {
   "cell_type": "markdown",
   "source": [
    "### 랜덤 포레스트 특성 중요도\n",
    "\n",
    "Random Forest의 Feature Importance는 각 feature의 기여도를 나타내는 지표입니다.\n",
    "\n",
    "Feature Importance가 높은 feature일수록 예측 모델에 중요한 역할 한다고 해석할 수 있습니다."
   ],
   "metadata": {
    "id": "eZ65Gc3FJFf9"
   }
  },
  {
   "cell_type": "code",
   "source": [
    "from sklearn.ensemble import RandomForestRegressor\n",
    "import matplotlib.pyplot as plt\n",
    "\n",
    "df_x = df.drop(['Survived'], axis=1)\n",
    "df_y = df['Survived']\n",
    "\n",
    "rf_model = RandomForestRegressor(n_estimators=100, random_state=42)\n",
    "rf_model.fit(df_x, df_y)\n",
    "\n",
    "# 학습된 모델의 feature importance 확인\n",
    "importance = rf_model.feature_importances_\n",
    "plt.figure(figsize=(13, 5))\n",
    "plt.bar(df_x.columns, importance)"
   ],
   "metadata": {
    "colab": {
     "base_uri": "https://localhost:8080/",
     "height": 462
    },
    "id": "jQkB1cuCJTDe",
    "outputId": "7c456777-9905-4ba1-e232-ae136ed7d520",
    "ExecuteTime": {
     "start_time": "2023-04-18T12:22:43.159469Z",
     "end_time": "2023-04-18T12:22:43.814430Z"
    }
   },
   "execution_count": null,
   "outputs": []
  },
  {
   "cell_type": "markdown",
   "source": [
    "### LASSO\n",
    "\n",
    "Lasso 모델에서는 L1 규제를 사용 하기 때문에, 일부 feature의 계수 를 0으로 만들어 해당 feature를 모델에서 제외시키는 효과가 있 습니다.\n",
    "\n",
    "따라서 계수가 0이 아닌 feature일 수록 해당 모델에 기여한 정도가 크다고 해석할 수 있습니다."
   ],
   "metadata": {
    "id": "2PMDHBFCKKXx"
   }
  },
  {
   "cell_type": "code",
   "source": [
    "from sklearn.linear_model import Lasso\n",
    "import matplotlib.pyplot as plt\n",
    "\n",
    "df_x = df.drop(['Survived'], axis=1)\n",
    "df_y = df['Survived']\n",
    "\n",
    "lasso_model = Lasso(alpha=0.1)  # alpha -> 규제 강도 설정 매개변수\n",
    "lasso_model.fit(df_x, df_y)\n",
    "\n",
    "# 학습된 모델을 사용하여 예측 수행\n",
    "y_pred = lasso_model.predict(df_x)\n",
    "\n",
    "# 학습된 모델의 feature importance 확인\n",
    "importance = lasso_model.coef_\n",
    "plt.figure(figsize=(13, 5))\n",
    "plt.bar(df_x.columns, importance)"
   ],
   "metadata": {
    "colab": {
     "base_uri": "https://localhost:8080/",
     "height": 462
    },
    "id": "wS4r9D_iKUAu",
    "outputId": "387ebdf8-e810-4f8b-e6e3-0b64c13295fc",
    "ExecuteTime": {
     "start_time": "2023-04-18T12:22:43.818708Z",
     "end_time": "2023-04-18T12:22:44.011166Z"
    }
   },
   "execution_count": null,
   "outputs": []
  },
  {
   "cell_type": "markdown",
   "source": [
    "## 특성 추출\n",
    "\n",
    "Feature Extraction(특성 추출)은 데이터에서 의미 있는 정보를 추출하여 새로운feature를생성하는과정입니다. FeatureExtraction은특히고차 원 데이터에서 유용합니다.\n",
    "\n",
    "[ 대표적인 특성 추출 종류 ]\n",
    "- PCA(주성분 분석)\n",
    "- LDA(선형 판별 분석)"
   ],
   "metadata": {
    "id": "82JxCN2SLlsE"
   }
  },
  {
   "cell_type": "markdown",
   "source": [
    "### PCA\n",
    "\n",
    "주어진 데이터의 주요한 정보를 나타 내는 새로운 feature를 추출하여 차원을 축소합니다.\n",
    "\n",
    "이러한 feature를 주성분이라고 하며, PCA를 통해 데이터를 잘 표현하는 k개의 주성분을 추출하여 데이터를 k차원으로 축소할 수 있습니다."
   ],
   "metadata": {
    "collapsed": false
   }
  },
  {
   "cell_type": "code",
   "source": [
    "from sklearn.decomposition import PCA\n",
    "import matplotlib.pyplot as plt\n",
    "\n",
    "df_x = df.drop(['Survived'], axis=1)\n",
    "pca = PCA()\n",
    "\n",
    "# variance ratio 계산\n",
    "pca.fit(df_x)\n",
    "variance_ratio = pca.explained_variance_ratio_\n",
    "\n",
    "# elbow 그래프 그리기\n",
    "plt.figure(figsize=(13, 5))\n",
    "plt.plot(range(1, len(variance_ratio) + 1), variance_ratio, marker='o')\n",
    "plt.xlabel('Number of Components')\n",
    "plt.ylabel('Variance Ratio')\n",
    "plt.title('PCA Elbow Graph')\n",
    "plt.show()"
   ],
   "metadata": {
    "colab": {
     "base_uri": "https://localhost:8080/",
     "height": 487
    },
    "id": "CdtxHBqfL5Sd",
    "outputId": "95931d63-af75-4e8d-928f-e119428abaa3",
    "ExecuteTime": {
     "start_time": "2023-04-18T12:22:44.025910Z",
     "end_time": "2023-04-18T12:22:44.229316Z"
    }
   },
   "execution_count": null,
   "outputs": []
  },
  {
   "cell_type": "markdown",
   "source": [
    "### LDA\n",
    "\n",
    "분류 문제에서 차원원 축소를 위해 사용되는 방법으로, PCA와는 달리 클래스 간 분산과 클래스 내 분산을 모두 고려합니다."
   ],
   "metadata": {
    "id": "9XYTYl20VTw6"
   }
  },
  {
   "cell_type": "code",
   "source": [
    "from sklearn.discriminant_analysis import LinearDiscriminantAnalysis\n",
    "import matplotlib.pyplot as plt\n",
    "\n",
    "# 예시 데이터 로드\n",
    "df_x = df.drop(['Survived'], axis=1)\n",
    "\n",
    "#LDA 모델 생성 및 variance ratio 계산\n",
    "lda = LinearDiscriminantAnalysis()\n",
    "lda.fit(df_x, df_y)\n",
    "\n",
    "print('LDA설명률 : ', lda.explained_variance_ratio_)\n",
    "df_x = lda.transform(df_x)"
   ],
   "metadata": {
    "colab": {
     "base_uri": "https://localhost:8080/"
    },
    "id": "zIavl_KnVqfc",
    "outputId": "6adb9bc1-cf3d-4d6e-9256-4d871619c6f0",
    "ExecuteTime": {
     "start_time": "2023-04-18T12:22:44.220258Z",
     "end_time": "2023-04-18T12:22:44.247502Z"
    }
   },
   "execution_count": null,
   "outputs": []
  },
  {
   "cell_type": "markdown",
   "source": [
    "# 피처 스케일링\n",
    "\n",
    "특성(피처)들의 값을 일정한 수준으로 맞춰주는 것이 피처 스케일링이라 불립니다. 특성마다 분산, 범위 등 다양한 통계학적 특성이 다르기 때문에, 각 특성을 비교 분석하기가 힘들고 학습에 악영향을 줍니다.\n",
    "\n",
    "[ 피처 스케일링 종류 ]\n",
    "- 표준화\n",
    "- 정규화"
   ],
   "metadata": {
    "id": "Ik5BjDKkWr8J"
   }
  },
  {
   "cell_type": "markdown",
   "source": [
    "## 표준화\n",
    "\n",
    "표준화의 목적은 데이터 셋의 numerical value의 범위를 파라미터로 설정한 평균과 분산이 되도록 하는 방법입니다."
   ],
   "metadata": {
    "id": "NiyR9qAwXGvg"
   }
  },
  {
   "cell_type": "markdown",
   "source": [
    "### Standard Scaler\n",
    "\n",
    "대표적인 표준화 방법입니다. 특성별로 데이터를 정규분포(평균 0, 분산 1)로 변경합니다."
   ],
   "metadata": {
    "id": "cp1c8SkzXhSs"
   }
  },
  {
   "cell_type": "code",
   "source": [
    "from sklearn.preprocessing import StandardScaler\n",
    "\n",
    "Scaler = StandardScaler()\n",
    "df_standard = Scaler.fit_transform(df)\n",
    "\n",
    "df_standard[0:2]"
   ],
   "metadata": {
    "colab": {
     "base_uri": "https://localhost:8080/"
    },
    "id": "GVkO2_OKWySp",
    "outputId": "06347679-ed6d-4aed-d2dc-04fa1211764b",
    "ExecuteTime": {
     "start_time": "2023-04-18T12:22:44.247811Z",
     "end_time": "2023-04-18T12:22:44.420871Z"
    }
   },
   "execution_count": null,
   "outputs": []
  },
  {
   "cell_type": "markdown",
   "source": [
    "#### 시각화"
   ],
   "metadata": {
    "id": "0cNAs1bNX-yR"
   }
  },
  {
   "cell_type": "code",
   "source": [
    "import matplotlib.pyplot as pit\n",
    "\n",
    "fig, axs = plt.subplots(1, 2, figsize=(10, 3))\n",
    "\n",
    "axs[0].hist(df.iloc[:, 4])\n",
    "axs[0].set_title('Before')\n",
    "\n",
    "axs[1].hist(df_standard[:, 4])\n",
    "axs[1].set_title('After')"
   ],
   "metadata": {
    "colab": {
     "base_uri": "https://localhost:8080/",
     "height": 331
    },
    "id": "eTE6doOyYBFt",
    "outputId": "6d1f7749-d98f-47f5-fabe-8e7405f1a2a2",
    "ExecuteTime": {
     "start_time": "2023-04-18T12:22:44.361074Z",
     "end_time": "2023-04-18T12:22:44.648174Z"
    }
   },
   "execution_count": null,
   "outputs": []
  },
  {
   "cell_type": "markdown",
   "source": [
    "## 정규화\n",
    "\n",
    "정규화의 목적은 데이터 셋의 numerical value 범위를 사용자가 설정한 공통 척도로 변경하는 것입니다."
   ],
   "metadata": {
    "id": "xirLLfLCYyde"
   }
  },
  {
   "cell_type": "markdown",
   "source": [
    "### MinMax Scaler\n",
    "\n",
    "대표적인 정규화 방법입니다. 특성별로 데이터를 0 ~ 1 범위로 변경합니다."
   ],
   "metadata": {
    "id": "Rk7awR5fZBAy"
   }
  },
  {
   "cell_type": "code",
   "source": [
    "from sklearn.preprocessing import MinMaxScaler\n",
    "\n",
    "Scaler = MinMaxScaler()\n",
    "df_MinMax = Scaler.fit_transform(df)\n",
    "\n",
    "df_MinMax[0:2]"
   ],
   "metadata": {
    "colab": {
     "base_uri": "https://localhost:8080/"
    },
    "id": "OzXT99_4ZYyj",
    "outputId": "6dffb550-0d79-4975-cca6-d21b36e8ed77",
    "ExecuteTime": {
     "start_time": "2023-04-18T12:22:44.648513Z",
     "end_time": "2023-04-18T12:22:44.657865Z"
    }
   },
   "execution_count": null,
   "outputs": []
  },
  {
   "cell_type": "markdown",
   "source": [
    "#### 시각화"
   ],
   "metadata": {
    "id": "bC5XnVR3ZoCG"
   }
  },
  {
   "cell_type": "code",
   "source": [
    "import matplotlib.pyplot as plt\n",
    "\n",
    "fig, axs = plt.subplots(1, 2, figsize=(10, 3))\n",
    "\n",
    "axs[0].hist(df.iloc[:, 4])\n",
    "axs[0].set_title('Before')\n",
    "\n",
    "axs[1].hist(df_MinMax[:, 4])\n",
    "axs[1].set_title('After')"
   ],
   "metadata": {
    "colab": {
     "base_uri": "https://localhost:8080/",
     "height": 331
    },
    "id": "IPrWyQogZriH",
    "outputId": "62a24572-fb40-4c4d-aad8-e70e1e2ed5fa",
    "ExecuteTime": {
     "start_time": "2023-04-18T12:22:44.675135Z",
     "end_time": "2023-04-18T12:22:44.987024Z"
    }
   },
   "execution_count": null,
   "outputs": []
  }
 ]
}
