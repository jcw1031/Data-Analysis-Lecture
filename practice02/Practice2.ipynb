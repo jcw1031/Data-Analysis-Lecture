{
 "cells": [
  {
   "cell_type": "markdown",
   "source": [
    "- **목적** : 트랜잭션 데이터에서 상품 간의 관계를 찾아낸다\n",
    "- **알고리즘** : Apriori 알고리즘\n",
    "- **데이터셋** : Online Retail Dataset은 온라인 소매점에서의 거래 데이터를 가진 데이터 셋으로, 각 거래는 고객이 구매한 상품의 목록을 포함하고 있다.\n",
    "- **사용 예시** : 주로 장바구니 분(Market Basket Analysis)에 사용되며, 상품 추천 서비스 등"
   ],
   "metadata": {
    "collapsed": false
   }
  },
  {
   "cell_type": "markdown",
   "source": [
    "## 라이브러리 가져오기"
   ],
   "metadata": {
    "collapsed": false
   }
  },
  {
   "cell_type": "code",
   "execution_count": 1,
   "outputs": [],
   "source": [
    "import pandas as pd\n",
    "from mlxtend.preprocessing import TransactionEncoder\n",
    "from mlxtend.frequent_patterns import apriori\n",
    "from mlxtend.frequent_patterns import association_rules"
   ],
   "metadata": {
    "collapsed": false,
    "ExecuteTime": {
     "start_time": "2023-04-26T15:32:18.215538Z",
     "end_time": "2023-04-26T15:32:19.123920Z"
    }
   }
  },
  {
   "cell_type": "markdown",
   "source": [
    "### Pandas\n",
    "> 파이썬 데이터 처리를 위한 라이브러리\n",
    "\n",
    "주로 DataFrame이라는 2차원 테이블 형태의 데이터 구조를 사용하며, 결측값 처리, 시계열 분석, 통계분석 등 다양한 데이터 처리 기능을 제공한다.\n",
    "\n",
    "### mlxtend\n",
    "> 머신러닝 및 데이터 분석을 위한 유용한 도구 및 기능을 제공하는 라이브러리\n",
    "\n",
    "연관 규칙 학습, 분류, 회귀, 클러스터링, 차원 축소, 모델 선택, 전처리,\n",
    "시각화 등 다양한 기능 제공\n",
    "\n",
    "### TransactionEncoder\n",
    "> mlxtend 라이브러리의 전처리 모듈에 속한 클래스\n",
    "\n",
    "트랜잭션 데이터를 머신러닝 알고리즘에 적합한 형태로 변환한다. 아이템의 존재 여부를 나타내는 boolean 값으로 변환해 One-hot 인코딩이라고 부르기도 한다."
   ],
   "metadata": {
    "collapsed": false
   }
  },
  {
   "cell_type": "markdown",
   "source": [
    "## 데이터 불러오기, 결측값 제거\n",
    "\n",
    "#### pd.read_excel\n",
    "엑셀 파일로 된 데이터를 부러온다.\n",
    "\n",
    "#### dropna\n",
    "해당하는 열의 결측값을 제거한다.\n",
    "> inplcae=True로 설정한 경우 데이터셋 자체를 수정한다."
   ],
   "metadata": {
    "collapsed": false
   }
  },
  {
   "cell_type": "code",
   "execution_count": 2,
   "outputs": [],
   "source": [
    "df = pd.read_excel('Online Retail.xlsx')\n",
    "df.dropna(subset=['Description', 'CustomerID'], inplace=True)"
   ],
   "metadata": {
    "collapsed": false,
    "ExecuteTime": {
     "start_time": "2023-04-26T15:32:19.125382Z",
     "end_time": "2023-04-26T15:33:02.499331Z"
    }
   }
  },
  {
   "cell_type": "code",
   "execution_count": 3,
   "outputs": [
    {
     "data": {
      "text/plain": "  InvoiceNo StockCode                         Description  Quantity   \n0    536365    85123A  WHITE HANGING HEART T-LIGHT HOLDER         6  \\\n1    536365     71053                 WHITE METAL LANTERN         6   \n2    536365    84406B      CREAM CUPID HEARTS COAT HANGER         8   \n\n          InvoiceDate  UnitPrice  CustomerID         Country  \n0 2010-12-01 08:26:00       2.55     17850.0  United Kingdom  \n1 2010-12-01 08:26:00       3.39     17850.0  United Kingdom  \n2 2010-12-01 08:26:00       2.75     17850.0  United Kingdom  ",
      "text/html": "<div>\n<style scoped>\n    .dataframe tbody tr th:only-of-type {\n        vertical-align: middle;\n    }\n\n    .dataframe tbody tr th {\n        vertical-align: top;\n    }\n\n    .dataframe thead th {\n        text-align: right;\n    }\n</style>\n<table border=\"1\" class=\"dataframe\">\n  <thead>\n    <tr style=\"text-align: right;\">\n      <th></th>\n      <th>InvoiceNo</th>\n      <th>StockCode</th>\n      <th>Description</th>\n      <th>Quantity</th>\n      <th>InvoiceDate</th>\n      <th>UnitPrice</th>\n      <th>CustomerID</th>\n      <th>Country</th>\n    </tr>\n  </thead>\n  <tbody>\n    <tr>\n      <th>0</th>\n      <td>536365</td>\n      <td>85123A</td>\n      <td>WHITE HANGING HEART T-LIGHT HOLDER</td>\n      <td>6</td>\n      <td>2010-12-01 08:26:00</td>\n      <td>2.55</td>\n      <td>17850.0</td>\n      <td>United Kingdom</td>\n    </tr>\n    <tr>\n      <th>1</th>\n      <td>536365</td>\n      <td>71053</td>\n      <td>WHITE METAL LANTERN</td>\n      <td>6</td>\n      <td>2010-12-01 08:26:00</td>\n      <td>3.39</td>\n      <td>17850.0</td>\n      <td>United Kingdom</td>\n    </tr>\n    <tr>\n      <th>2</th>\n      <td>536365</td>\n      <td>84406B</td>\n      <td>CREAM CUPID HEARTS COAT HANGER</td>\n      <td>8</td>\n      <td>2010-12-01 08:26:00</td>\n      <td>2.75</td>\n      <td>17850.0</td>\n      <td>United Kingdom</td>\n    </tr>\n  </tbody>\n</table>\n</div>"
     },
     "execution_count": 3,
     "metadata": {},
     "output_type": "execute_result"
    }
   ],
   "source": [
    "df.head(3)"
   ],
   "metadata": {
    "collapsed": false,
    "ExecuteTime": {
     "start_time": "2023-04-26T15:33:02.555568Z",
     "end_time": "2023-04-26T15:33:02.585406Z"
    }
   }
  },
  {
   "cell_type": "markdown",
   "source": [
    "## 데이터 변환\n",
    "주문 데이터를 거래 형태로 변환\n",
    "\n",
    "#### groupby\n",
    "주어진 데이터를 그룹 별로 구분하여 데이터를 보기 위해 사용되는 함수\n",
    "> InvoiceNo을 통해 그룹화하여 사용자별로 구매 내역을 보여준다.\n",
    "\n",
    "#### apply(list)\n",
    "데이터를 리스트 형태로 바꿔준다."
   ],
   "metadata": {
    "collapsed": false
   }
  },
  {
   "cell_type": "code",
   "execution_count": 4,
   "outputs": [
    {
     "data": {
      "text/plain": "InvoiceNo\n536365    [WHITE HANGING HEART T-LIGHT HOLDER, WHITE MET...\n536366    [HAND WARMER UNION JACK, HAND WARMER RED POLKA...\n536367    [ASSORTED COLOUR BIRD ORNAMENT, POPPY'S PLAYHO...\n536368    [JAM MAKING SET WITH JARS, RED COAT RACK PARIS...\n536369                           [BATH BUILDING BLOCK WORD]\nName: Description, dtype: object"
     },
     "execution_count": 4,
     "metadata": {},
     "output_type": "execute_result"
    }
   ],
   "source": [
    "transactions = df.groupby('InvoiceNo')['Description'].apply(list)\n",
    "transactions.head()"
   ],
   "metadata": {
    "collapsed": false,
    "ExecuteTime": {
     "start_time": "2023-04-26T15:33:02.564906Z",
     "end_time": "2023-04-26T15:33:03.025354Z"
    }
   }
  },
  {
   "cell_type": "markdown",
   "source": [
    "## 데이터 인코딩\n",
    "\n",
    "#### TransactionEncoder()\n",
    "객체를 생성한다.\n",
    "\n",
    "#### fit()\n",
    "데이터셋에 적용한다.\n",
    "\n",
    "#### transform()\n",
    "데이터를 boolean 배열로 변환한다.\n",
    "\n",
    "#### pd.DataFrame()\n",
    "변환된 데이터를 pandas의 DataFrame으로 변환한다."
   ],
   "metadata": {
    "collapsed": false
   }
  },
  {
   "cell_type": "code",
   "execution_count": 5,
   "outputs": [
    {
     "data": {
      "text/plain": "    4 PURPLE FLOCK DINNER CANDLES   50'S CHRISTMAS GIFT BAG LARGE   \n0                           False                           False  \\\n1                           False                           False   \n2                           False                           False   \n3                           False                           False   \n4                           False                           False   \n\n    DOLLY GIRL BEAKER   I LOVE LONDON MINI BACKPACK   \n0               False                         False  \\\n1               False                         False   \n2               False                         False   \n3               False                         False   \n4               False                         False   \n\n    I LOVE LONDON MINI RUCKSACK   NINE DRAWER OFFICE TIDY   \n0                         False                     False  \\\n1                         False                     False   \n2                         False                     False   \n3                         False                     False   \n4                         False                     False   \n\n    OVAL WALL MIRROR DIAMANTE    RED SPOT GIFT BAG LARGE   \n0                        False                     False  \\\n1                        False                     False   \n2                        False                     False   \n3                        False                     False   \n4                        False                     False   \n\n    SET 2 TEA TOWELS I LOVE LONDON    SPACEBOY BABY GIFT SET  ...   \n0                             False                    False  ...  \\\n1                             False                    False  ...   \n2                             False                    False  ...   \n3                             False                    False  ...   \n4                             False                    False  ...   \n\n   ZINC STAR T-LIGHT HOLDER   ZINC SWEETHEART SOAP DISH   \n0                      False                      False  \\\n1                      False                      False   \n2                      False                      False   \n3                      False                      False   \n4                      False                      False   \n\n   ZINC SWEETHEART WIRE LETTER RACK  ZINC T-LIGHT HOLDER STAR LARGE   \n0                             False                           False  \\\n1                             False                           False   \n2                             False                           False   \n3                             False                           False   \n4                             False                           False   \n\n   ZINC T-LIGHT HOLDER STARS LARGE  ZINC T-LIGHT HOLDER STARS SMALL   \n0                            False                            False  \\\n1                            False                            False   \n2                            False                            False   \n3                            False                            False   \n4                            False                            False   \n\n   ZINC TOP  2 DOOR WOODEN SHELF   ZINC WILLIE WINKIE  CANDLE STICK   \n0                           False                             False  \\\n1                           False                             False   \n2                           False                             False   \n3                           False                             False   \n4                           False                             False   \n\n   ZINC WIRE KITCHEN ORGANISER  ZINC WIRE SWEETHEART LETTER TRAY  \n0                        False                             False  \n1                        False                             False  \n2                        False                             False  \n3                        False                             False  \n4                        False                             False  \n\n[5 rows x 3896 columns]",
      "text/html": "<div>\n<style scoped>\n    .dataframe tbody tr th:only-of-type {\n        vertical-align: middle;\n    }\n\n    .dataframe tbody tr th {\n        vertical-align: top;\n    }\n\n    .dataframe thead th {\n        text-align: right;\n    }\n</style>\n<table border=\"1\" class=\"dataframe\">\n  <thead>\n    <tr style=\"text-align: right;\">\n      <th></th>\n      <th>4 PURPLE FLOCK DINNER CANDLES</th>\n      <th>50'S CHRISTMAS GIFT BAG LARGE</th>\n      <th>DOLLY GIRL BEAKER</th>\n      <th>I LOVE LONDON MINI BACKPACK</th>\n      <th>I LOVE LONDON MINI RUCKSACK</th>\n      <th>NINE DRAWER OFFICE TIDY</th>\n      <th>OVAL WALL MIRROR DIAMANTE</th>\n      <th>RED SPOT GIFT BAG LARGE</th>\n      <th>SET 2 TEA TOWELS I LOVE LONDON</th>\n      <th>SPACEBOY BABY GIFT SET</th>\n      <th>...</th>\n      <th>ZINC STAR T-LIGHT HOLDER</th>\n      <th>ZINC SWEETHEART SOAP DISH</th>\n      <th>ZINC SWEETHEART WIRE LETTER RACK</th>\n      <th>ZINC T-LIGHT HOLDER STAR LARGE</th>\n      <th>ZINC T-LIGHT HOLDER STARS LARGE</th>\n      <th>ZINC T-LIGHT HOLDER STARS SMALL</th>\n      <th>ZINC TOP  2 DOOR WOODEN SHELF</th>\n      <th>ZINC WILLIE WINKIE  CANDLE STICK</th>\n      <th>ZINC WIRE KITCHEN ORGANISER</th>\n      <th>ZINC WIRE SWEETHEART LETTER TRAY</th>\n    </tr>\n  </thead>\n  <tbody>\n    <tr>\n      <th>0</th>\n      <td>False</td>\n      <td>False</td>\n      <td>False</td>\n      <td>False</td>\n      <td>False</td>\n      <td>False</td>\n      <td>False</td>\n      <td>False</td>\n      <td>False</td>\n      <td>False</td>\n      <td>...</td>\n      <td>False</td>\n      <td>False</td>\n      <td>False</td>\n      <td>False</td>\n      <td>False</td>\n      <td>False</td>\n      <td>False</td>\n      <td>False</td>\n      <td>False</td>\n      <td>False</td>\n    </tr>\n    <tr>\n      <th>1</th>\n      <td>False</td>\n      <td>False</td>\n      <td>False</td>\n      <td>False</td>\n      <td>False</td>\n      <td>False</td>\n      <td>False</td>\n      <td>False</td>\n      <td>False</td>\n      <td>False</td>\n      <td>...</td>\n      <td>False</td>\n      <td>False</td>\n      <td>False</td>\n      <td>False</td>\n      <td>False</td>\n      <td>False</td>\n      <td>False</td>\n      <td>False</td>\n      <td>False</td>\n      <td>False</td>\n    </tr>\n    <tr>\n      <th>2</th>\n      <td>False</td>\n      <td>False</td>\n      <td>False</td>\n      <td>False</td>\n      <td>False</td>\n      <td>False</td>\n      <td>False</td>\n      <td>False</td>\n      <td>False</td>\n      <td>False</td>\n      <td>...</td>\n      <td>False</td>\n      <td>False</td>\n      <td>False</td>\n      <td>False</td>\n      <td>False</td>\n      <td>False</td>\n      <td>False</td>\n      <td>False</td>\n      <td>False</td>\n      <td>False</td>\n    </tr>\n    <tr>\n      <th>3</th>\n      <td>False</td>\n      <td>False</td>\n      <td>False</td>\n      <td>False</td>\n      <td>False</td>\n      <td>False</td>\n      <td>False</td>\n      <td>False</td>\n      <td>False</td>\n      <td>False</td>\n      <td>...</td>\n      <td>False</td>\n      <td>False</td>\n      <td>False</td>\n      <td>False</td>\n      <td>False</td>\n      <td>False</td>\n      <td>False</td>\n      <td>False</td>\n      <td>False</td>\n      <td>False</td>\n    </tr>\n    <tr>\n      <th>4</th>\n      <td>False</td>\n      <td>False</td>\n      <td>False</td>\n      <td>False</td>\n      <td>False</td>\n      <td>False</td>\n      <td>False</td>\n      <td>False</td>\n      <td>False</td>\n      <td>False</td>\n      <td>...</td>\n      <td>False</td>\n      <td>False</td>\n      <td>False</td>\n      <td>False</td>\n      <td>False</td>\n      <td>False</td>\n      <td>False</td>\n      <td>False</td>\n      <td>False</td>\n      <td>False</td>\n    </tr>\n  </tbody>\n</table>\n<p>5 rows × 3896 columns</p>\n</div>"
     },
     "execution_count": 5,
     "metadata": {},
     "output_type": "execute_result"
    }
   ],
   "source": [
    "te = TransactionEncoder()\n",
    "te_ary = te.fit(transactions).transform(transactions)\n",
    "df = pd.DataFrame(te_ary, columns=te.columns_)\n",
    "\n",
    "df.head()"
   ],
   "metadata": {
    "collapsed": false,
    "ExecuteTime": {
     "start_time": "2023-04-26T15:33:03.017840Z",
     "end_time": "2023-04-26T15:33:03.132582Z"
    }
   }
  },
  {
   "cell_type": "markdown",
   "source": [
    "## Apriori 알고리즘 적용\n",
    "\n",
    "- **min_support**: 지지도는 특정 항목 집합이 전체 트랜재션에서 발생한 비율을 말한다.\n",
    "- **apriori()**: 데이터셋과 최소 지지도를 사용해 빈발 항목 집합을 찾는다.\n",
    "\n",
    "<br>\n",
    "\n",
    "- **지지도**(Support): 각 항목이 같이 발생할 경우\n",
    "- **신뢰도**(Confidence): 항목 x가 주어진 경우, 항목 y도 발생할 확률\n",
    "- **향상도**(Lift): 항목 x와 y가 독립적일 때 예상되는 지지도에 비해 실제로 함께 발생한 비율"
   ],
   "metadata": {
    "collapsed": false
   }
  },
  {
   "cell_type": "code",
   "execution_count": 6,
   "outputs": [],
   "source": [
    "min_support = 0.01\n",
    "frequent_itemsets = apriori(df, min_support=min_support, use_colnames=True)"
   ],
   "metadata": {
    "collapsed": false,
    "ExecuteTime": {
     "start_time": "2023-04-26T15:33:03.137309Z",
     "end_time": "2023-04-26T15:33:35.865984Z"
    }
   }
  },
  {
   "cell_type": "markdown",
   "source": [
    "## 관련 지표 계산\n",
    "\n",
    "- **association_rules()**: 지지도, 신뢰 및 향상도 지표를 포함하는 규칙 계산 선행 항목과 후행 항목 간의 관계와 함께 지표 값을 확인할 수 있다."
   ],
   "metadata": {
    "collapsed": false
   }
  },
  {
   "cell_type": "code",
   "execution_count": 17,
   "outputs": [
    {
     "name": "stdout",
     "output_type": "stream",
     "text": [
      "                                           antecedents   \n",
      "0                        (60 TEATIME FAIRY CAKE CASES)  \\\n",
      "1                     (72 SWEETHEART FAIRY CAKE CASES)   \n",
      "2                        (60 TEATIME FAIRY CAKE CASES)   \n",
      "3                     (PACK OF 60 DINOSAUR CAKE CASES)   \n",
      "4                 (PACK OF 60 PINK PAISLEY CAKE CASES)   \n",
      "..                                                 ...   \n",
      "563  (REGENCY CAKESTAND 3 TIER, GREEN REGENCY TEACU...   \n",
      "564                   (PINK REGENCY TEACUP AND SAUCER)   \n",
      "565                 (ROSES REGENCY TEACUP AND SAUCER )   \n",
      "566                         (REGENCY CAKESTAND 3 TIER)   \n",
      "567                  (GREEN REGENCY TEACUP AND SAUCER)   \n",
      "\n",
      "                                           consequents   support  confidence   \n",
      "0                     (72 SWEETHEART FAIRY CAKE CASES)  0.010050    0.335843  \\\n",
      "1                        (60 TEATIME FAIRY CAKE CASES)  0.010050    0.441584   \n",
      "2                     (PACK OF 60 DINOSAUR CAKE CASES)  0.010050    0.335843   \n",
      "3                        (60 TEATIME FAIRY CAKE CASES)  0.010050    0.419173   \n",
      "4                        (60 TEATIME FAIRY CAKE CASES)  0.012618    0.414815   \n",
      "..                                                 ...       ...         ...   \n",
      "563  (PINK REGENCY TEACUP AND SAUCER, ROSES REGENCY...  0.010861    0.629243   \n",
      "564  (ROSES REGENCY TEACUP AND SAUCER , REGENCY CAK...  0.010861    0.407783   \n",
      "565  (PINK REGENCY TEACUP AND SAUCER, REGENCY CAKES...  0.010861    0.288278   \n",
      "566  (PINK REGENCY TEACUP AND SAUCER, ROSES REGENCY...  0.010861    0.127919   \n",
      "567  (PINK REGENCY TEACUP AND SAUCER, ROSES REGENCY...  0.010861    0.328786   \n",
      "\n",
      "          lift  \n",
      "0    14.757157  \n",
      "1    14.757157  \n",
      "2    14.008204  \n",
      "3    14.008204  \n",
      "4    13.862561  \n",
      "..         ...  \n",
      "563  30.959863  \n",
      "564  28.635171  \n",
      "565  23.346270  \n",
      "566   7.149949  \n",
      "567  26.921613  \n",
      "\n",
      "[568 rows x 5 columns]\n"
     ]
    }
   ],
   "source": [
    "rules = association_rules(frequent_itemsets, metric=\"lift\", min_threshold=1)\n",
    "print(rules[['antecedents', 'consequents', 'support', 'confidence', 'lift']])"
   ],
   "metadata": {
    "collapsed": false,
    "ExecuteTime": {
     "start_time": "2023-04-26T15:46:34.255961Z",
     "end_time": "2023-04-26T15:46:34.268969Z"
    }
   }
  },
  {
   "cell_type": "markdown",
   "source": [
    "## 상품 추천 시스템\n",
    "\n",
    "- **lambda**: 간단한 기능을 수행하는 일회성 함수 생성\n",
    "- **apply()**: 데이터프레임의 특정 열의 모든 행에 사용 지정 함수 적용\n",
    "- **issubset()**: 부분집합 여부 확인\n",
    "- **iterrows()**: 데이터프레임의 인덱스와 행 데이터를 튜플로 반환\n",
    "- **update()**: 새로운 요소 추가"
   ],
   "metadata": {
    "collapsed": false
   }
  },
  {
   "cell_type": "code",
   "execution_count": 18,
   "outputs": [
    {
     "name": "stdout",
     "output_type": "stream",
     "text": [
      "추천 상품 :  ['60 TEATIME FAIRY CAKE CASES', 'PACK OF 72 RETROSPOT CAKE CASES']\n"
     ]
    }
   ],
   "source": [
    "# 추천 함수 정의\n",
    "def recomend_products(rules, product_bought, top_n=10):\n",
    "    \"\"\"\n",
    "    :param rules: 연관 규칙 데이터 프레임\n",
    "    :param product_bought: 사용자가 구매한 상품 목록\n",
    "    :param top_n: 추천할 상품 개수\n",
    "    :return:\n",
    "    \"\"\"\n",
    "    # 구매한 상품을 antecedents에 포함하는 규칙을 찾는다.\n",
    "    recommendations = rules[rules['antecedents'].apply(lambda x: set(product_bought).issubset(x))]\n",
    "\n",
    "    \"\"\"\n",
    "    recommendations = set()\n",
    "\n",
    "    for index, rule in rules.iterrows():\n",
    "        antecedents = rule['antecedents']\n",
    "        if set(products_bought).issubset(antecedents):\n",
    "            recommendations.update(rule['consequents'])\n",
    "    \"\"\"\n",
    "\n",
    "    # lift 값이 높은 순서로 상품 정렬\n",
    "    recommendations = recommendations.sort_values(by='lift', ascending=False)\n",
    "\n",
    "    # 상위 top_n개의 상품 추천\n",
    "    recomend_products = set()\n",
    "    for _, row in recommendations.iterrows():\n",
    "        recomend_products.update(row['consequents'])\n",
    "\n",
    "        if len(recomend_products) >= top_n:\n",
    "            break\n",
    "\n",
    "    return list(recomend_products)[:top_n]\n",
    "\n",
    "\n",
    "products_bought = ['72 SWEETHEART FAIRY CAKE CASES']\n",
    "recomended = recomend_products(rules, products_bought)\n",
    "print(\"추천 상품 : \", recomended)"
   ],
   "metadata": {
    "collapsed": false,
    "ExecuteTime": {
     "start_time": "2023-04-26T15:48:28.071598Z",
     "end_time": "2023-04-26T15:48:28.074430Z"
    }
   }
  }
 ],
 "metadata": {
  "kernelspec": {
   "display_name": "Python 3",
   "language": "python",
   "name": "python3"
  },
  "language_info": {
   "codemirror_mode": {
    "name": "ipython",
    "version": 2
   },
   "file_extension": ".py",
   "mimetype": "text/x-python",
   "name": "python",
   "nbconvert_exporter": "python",
   "pygments_lexer": "ipython2",
   "version": "2.7.6"
  }
 },
 "nbformat": 4,
 "nbformat_minor": 0
}
